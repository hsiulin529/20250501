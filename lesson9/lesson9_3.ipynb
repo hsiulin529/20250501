{
 "cells": [
  {
   "cell_type": "code",
   "execution_count": 27,
   "id": "eefb229d",
   "metadata": {},
   "outputs": [
    {
     "name": "stdout",
     "output_type": "stream",
     "text": [
      "<class 'list'>\n"
     ]
    }
   ],
   "source": [
    "###list \n",
    "list1=[89,92,74,35,67]\n",
    "print(type(list1))\n"
   ]
  },
  {
   "cell_type": "code",
   "execution_count": 28,
   "id": "01fd15bf",
   "metadata": {},
   "outputs": [
    {
     "name": "stdout",
     "output_type": "stream",
     "text": [
      "92\n",
      "35\n"
     ]
    }
   ],
   "source": [
    "#內建function\n",
    "print(max(list1))\n",
    "print(min(list1))"
   ]
  },
  {
   "cell_type": "code",
   "execution_count": 29,
   "id": "a8c24a64",
   "metadata": {},
   "outputs": [
    {
     "data": {
      "text/plain": [
       "[89, 92, 74, 35, 67, 100]"
      ]
     },
     "execution_count": 29,
     "metadata": {},
     "output_type": "execute_result"
    }
   ],
   "source": [
    "list1.append(100)\n",
    "list1"
   ]
  },
  {
   "cell_type": "code",
   "execution_count": 30,
   "id": "eafdf17d",
   "metadata": {},
   "outputs": [
    {
     "data": {
      "text/plain": [
       "[89, 92, 74, 35, 67, 100, 99, 98]"
      ]
     },
     "execution_count": 30,
     "metadata": {},
     "output_type": "execute_result"
    }
   ],
   "source": [
    "list1.extend([99,98])\n",
    "list1"
   ]
  },
  {
   "cell_type": "code",
   "execution_count": 31,
   "id": "1eb1bda4",
   "metadata": {},
   "outputs": [
    {
     "data": {
      "text/plain": [
       "[89, 92, 74, 35, 67, 100, 99]"
      ]
     },
     "execution_count": 31,
     "metadata": {},
     "output_type": "execute_result"
    }
   ],
   "source": [
    "list1.pop()\n",
    "list1"
   ]
  },
  {
   "cell_type": "code",
   "execution_count": null,
   "id": "7e7eaca1",
   "metadata": {},
   "outputs": [],
   "source": []
  }
 ],
 "metadata": {
  "kernelspec": {
   "display_name": "base",
   "language": "python",
   "name": "python3"
  },
  "language_info": {
   "codemirror_mode": {
    "name": "ipython",
    "version": 3
   },
   "file_extension": ".py",
   "mimetype": "text/x-python",
   "name": "python",
   "nbconvert_exporter": "python",
   "pygments_lexer": "ipython3",
   "version": "3.12.9"
  }
 },
 "nbformat": 4,
 "nbformat_minor": 5
}
