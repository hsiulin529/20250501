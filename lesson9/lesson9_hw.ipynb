{
 "cells": [
  {
   "cell_type": "code",
   "execution_count": 13,
   "id": "c0f94bdf",
   "metadata": {},
   "outputs": [
    {
     "name": "stdout",
     "output_type": "stream",
     "text": [
      "1 余月修\n",
      "2 彭虹屏\n",
      "3 王雅琴\n",
      "4 林珍旺\n",
      "5 簡美君\n"
     ]
    }
   ],
   "source": [
    "file = open(\"names.txt\",encoding='utf-8')\n",
    "contents:list[str] = file.readlines()\n",
    "file.close()\n",
    "names:list[str] = [name.strip() for name in contents]\n",
    "\n",
    "import random\n",
    "amount=int(input(\"請輸入所需數量\"))\n",
    "selected_names=random.sample(names,amount)\n",
    "\n",
    "for i, name in enumerate(selected_names,1):\n",
    "    print(i,name)"
   ]
  }
 ],
 "metadata": {
  "kernelspec": {
   "display_name": "base",
   "language": "python",
   "name": "python3"
  },
  "language_info": {
   "codemirror_mode": {
    "name": "ipython",
    "version": 3
   },
   "file_extension": ".py",
   "mimetype": "text/x-python",
   "name": "python",
   "nbconvert_exporter": "python",
   "pygments_lexer": "ipython3",
   "version": "3.13.2"
  }
 },
 "nbformat": 4,
 "nbformat_minor": 5
}
