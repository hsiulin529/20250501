{
 "cells": [
  {
   "cell_type": "code",
   "execution_count": 4,
   "id": "282a9fa4",
   "metadata": {},
   "outputs": [
    {
     "name": "stdout",
     "output_type": "stream",
     "text": [
      "1 錢佩豪\n",
      "2 黃淑芬\n",
      "3 胡淑貞\n",
      "4 盧文啟\n",
      "5 白世宏\n"
     ]
    }
   ],
   "source": [
    "file = open(\"names.txt\",encoding='utf-8')\n",
    "contents:list[str] = file.readlines()\n",
    "file.close()\n",
    "names:list[str] = [name.strip() for name in contents]\n",
    "\n",
    "import random\n",
    "amount=int(input(\"請輸入所需數量\"))\n",
    "selected_names=random.sample(names,amount)\n",
    "\n",
    "for i, name in enumerate(selected_names,1):\n",
    "    print(i,name)"
   ]
  }
 ],
 "metadata": {
  "language_info": {
   "name": "python"
  }
 },
 "nbformat": 4,
 "nbformat_minor": 5
}
