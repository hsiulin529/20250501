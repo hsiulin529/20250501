{
 "cells": [
  {
   "cell_type": "code",
   "execution_count": 28,
   "id": "eb3cf112",
   "metadata": {},
   "outputs": [],
   "source": [
    "from dataclasses import dataclass\n",
    "@dataclass\n",
    "class student:\n",
    "    name:str\n",
    "    chinese:int\n",
    "    english:int\n",
    "    math:int\n",
    "\n",
    "    @property\n",
    "    def total(self)->int:\n",
    "        return self.chinese+self.math+self.english\n",
    "    #self代表我這個property\n",
    "    \n",
    "    def average(self)->float:\n",
    "        return round(self.total/3.0,ndigits=2)"
   ]
  },
  {
   "cell_type": "code",
   "execution_count": 29,
   "id": "d46f5c3d",
   "metadata": {},
   "outputs": [
    {
     "name": "stdout",
     "output_type": "stream",
     "text": [
      "<class '__main__.student'>\n",
      "233\n",
      "77.67\n"
     ]
    }
   ],
   "source": [
    "stu1=student(name=\"amy\",chinese=89,english=88,math=56)\n",
    "print(type(stu1))\n",
    "stu1.name,stu1.chinese,stu1.english,stu1.math\n",
    "print(stu1.total)\n",
    "print(stu1.average())\n"
   ]
  },
  {
   "cell_type": "code",
   "execution_count": 30,
   "id": "6e08815d",
   "metadata": {},
   "outputs": [
    {
     "name": "stdout",
     "output_type": "stream",
     "text": [
      "<class '__main__.student'>\n",
      "213\n",
      "71.0\n"
     ]
    }
   ],
   "source": [
    "stu2=student(name=\"andy\",chinese=59,english=68,math=86)\n",
    "print(type(stu2))\n",
    "stu2.name,stu2.chinese,stu2.english,stu2.math\n",
    "print(stu2.total)\n",
    "print(stu2.average())"
   ]
  }
 ],
 "metadata": {
  "kernelspec": {
   "display_name": "base",
   "language": "python",
   "name": "python3"
  },
  "language_info": {
   "codemirror_mode": {
    "name": "ipython",
    "version": 3
   },
   "file_extension": ".py",
   "mimetype": "text/x-python",
   "name": "python",
   "nbconvert_exporter": "python",
   "pygments_lexer": "ipython3",
   "version": "3.12.9"
  }
 },
 "nbformat": 4,
 "nbformat_minor": 5
}
