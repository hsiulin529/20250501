{
 "cells": [
  {
   "cell_type": "code",
   "execution_count": 1,
   "id": "34571ce1",
   "metadata": {},
   "outputs": [
    {
     "data": {
      "text/plain": [
       "array([7, 8, 9])"
      ]
     },
     "execution_count": 1,
     "metadata": {},
     "output_type": "execute_result"
    }
   ],
   "source": [
    "import numpy as np\n",
    "\n",
    "arr = np.arange(10)\n",
    "arr[0]\n",
    "arr[-1]\n",
    "arr[:3]\n",
    "arr[-3:]"
   ]
  },
  {
   "cell_type": "code",
   "execution_count": 2,
   "id": "2612b616",
   "metadata": {},
   "outputs": [
    {
     "data": {
      "text/plain": [
       "65"
      ]
     },
     "execution_count": 2,
     "metadata": {},
     "output_type": "execute_result"
    }
   ],
   "source": [
    "import random\n",
    "random.randint(50,100)"
   ]
  },
  {
   "cell_type": "code",
   "execution_count": 3,
   "id": "af274947",
   "metadata": {},
   "outputs": [
    {
     "data": {
      "text/plain": [
       "(50, 5)"
      ]
     },
     "execution_count": 3,
     "metadata": {},
     "output_type": "execute_result"
    }
   ],
   "source": [
    "np.random.randint(50, 101, size=5)\n",
    "scores = np.random.randint(50,101, size=(50, 5))\n",
    "scores.size\n",
    "scores.shape"
   ]
  },
  {
   "cell_type": "code",
   "execution_count": 4,
   "id": "ef55ab9f",
   "metadata": {},
   "outputs": [
    {
     "data": {
      "text/plain": [
       "array([[77],\n",
       "       [52],\n",
       "       [80],\n",
       "       [97],\n",
       "       [64],\n",
       "       [62],\n",
       "       [89],\n",
       "       [88],\n",
       "       [94],\n",
       "       [58],\n",
       "       [66],\n",
       "       [52],\n",
       "       [60],\n",
       "       [90],\n",
       "       [72],\n",
       "       [83],\n",
       "       [69],\n",
       "       [64],\n",
       "       [72],\n",
       "       [52],\n",
       "       [82],\n",
       "       [95],\n",
       "       [66],\n",
       "       [52],\n",
       "       [89],\n",
       "       [98],\n",
       "       [81],\n",
       "       [68],\n",
       "       [86],\n",
       "       [66],\n",
       "       [58],\n",
       "       [80],\n",
       "       [93],\n",
       "       [65],\n",
       "       [53],\n",
       "       [50],\n",
       "       [94],\n",
       "       [91],\n",
       "       [83],\n",
       "       [61],\n",
       "       [57],\n",
       "       [62],\n",
       "       [51],\n",
       "       [75],\n",
       "       [65],\n",
       "       [58],\n",
       "       [87],\n",
       "       [67],\n",
       "       [57],\n",
       "       [52]], dtype=int32)"
      ]
     },
     "execution_count": 4,
     "metadata": {},
     "output_type": "execute_result"
    }
   ],
   "source": [
    "scores[:,0]\n",
    "scores[:,0:1]"
   ]
  },
  {
   "cell_type": "code",
   "execution_count": 5,
   "id": "3605afcf",
   "metadata": {},
   "outputs": [
    {
     "data": {
      "text/plain": [
       "array([[77, 94, 86, 84, 59]], dtype=int32)"
      ]
     },
     "execution_count": 5,
     "metadata": {},
     "output_type": "execute_result"
    }
   ],
   "source": [
    "scores[0,:]\n",
    "scores[0:1,:]"
   ]
  },
  {
   "cell_type": "code",
   "execution_count": 6,
   "id": "a502bb19",
   "metadata": {},
   "outputs": [
    {
     "data": {
      "text/plain": [
       "array([80. , 67.2, 70.6, 89.4, 88.2, 67.2, 80.6, 88.8, 84.4, 68.2, 76.8,\n",
       "       67.8, 72.4, 76. , 73.6, 81.8, 57.4, 73.4, 73.8, 60.6, 73.4, 77.8,\n",
       "       81.6, 77. , 83.6, 77.8, 79.8, 63.8, 73.2, 76.2, 74.8, 74.6, 82.2,\n",
       "       76.4, 78.8, 69.6, 74.8, 82. , 75. , 70. , 66.4, 83.6, 73.6, 74.8,\n",
       "       78.6, 67.8, 78.6, 74. , 69.6, 70.2])"
      ]
     },
     "execution_count": 6,
     "metadata": {},
     "output_type": "execute_result"
    }
   ],
   "source": [
    "np.sum(scores,axis=1)\n",
    "np.mean(scores, axis=1)"
   ]
  },
  {
   "cell_type": "code",
   "execution_count": 7,
   "id": "272ed3eb",
   "metadata": {},
   "outputs": [
    {
     "data": {
      "text/plain": [
       "array([False, False,  True, False,  True])"
      ]
     },
     "execution_count": 7,
     "metadata": {},
     "output_type": "execute_result"
    }
   ],
   "source": [
    "#使用比較運算子\n",
    "arr = np.random.randn(5)\n",
    "arr > 0"
   ]
  },
  {
   "cell_type": "code",
   "execution_count": 8,
   "id": "65293fa0",
   "metadata": {},
   "outputs": [
    {
     "data": {
      "text/plain": [
       "array([0, 0, 1, 0, 1])"
      ]
     },
     "execution_count": 8,
     "metadata": {},
     "output_type": "execute_result"
    }
   ],
   "source": [
    "np.where(arr > 0, 1, 0)"
   ]
  },
  {
   "cell_type": "code",
   "execution_count": 9,
   "id": "8312d43a",
   "metadata": {},
   "outputs": [
    {
     "data": {
      "text/plain": [
       "array([-0.05064401, -1.58382411,  1.        , -1.10662984,  1.        ])"
      ]
     },
     "execution_count": 9,
     "metadata": {},
     "output_type": "execute_result"
    }
   ],
   "source": [
    "np.where(arr > 0, 1, arr)"
   ]
  }
 ],
 "metadata": {
  "kernelspec": {
   "display_name": "python2_4",
   "language": "python",
   "name": "python3"
  },
  "language_info": {
   "codemirror_mode": {
    "name": "ipython",
    "version": 3
   },
   "file_extension": ".py",
   "mimetype": "text/x-python",
   "name": "python",
   "nbconvert_exporter": "python",
   "pygments_lexer": "ipython3",
   "version": "3.10.18"
  }
 },
 "nbformat": 4,
 "nbformat_minor": 5
}
