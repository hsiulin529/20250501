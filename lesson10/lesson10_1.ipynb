{
 "cells": [
  {
   "cell_type": "code",
   "execution_count": 2,
   "id": "861bad62",
   "metadata": {},
   "outputs": [
    {
     "name": "stdout",
     "output_type": "stream",
     "text": [
      "{'姓名': '林佳光', '數學': 93, '英文': 57, '國文': 41}\n",
      "{'姓名': '王展人', '數學': 68, '英文': 69, '國文': 67}\n",
      "{'姓名': '潘英迪', '數學': 47, '英文': 75, '國文': 22}\n",
      "{'姓名': '藍姿婷', '數學': 40, '英文': 22, '國文': 71}\n",
      "{'姓名': '郭舜昇', '數學': 23, '英文': 20, '國文': 99}\n"
     ]
    }
   ],
   "source": [
    "import random\n",
    "\n",
    "file = open(\"names.txt\",encoding='utf-8')\n",
    "contents:list[str] = file.readlines()\n",
    "file.close()\n",
    "names:list[str] = [name.strip() for name in contents]\n",
    "\n",
    "pick=int(input(\"請輸入所需要的姓名數量\"));\n",
    "selected_names=random.sample(names,pick)\n",
    "students_data:list[dict]=[\n",
    "    {\n",
    "        \"姓名\":name,\n",
    "        \"數學\":random.randint(0,100),\n",
    "        \"英文\":random.randint(0,100),\n",
    "        \"國文\":random.randint(0,100)\n",
    "    \n",
    "        \n",
    "  }\n",
    "  for name in selected_names]\n",
    "\n",
    "for student in students_data:\n",
    "    print(student)\n",
    "\n"
   ]
  }
 ],
 "metadata": {
  "kernelspec": {
   "display_name": "base",
   "language": "python",
   "name": "python3"
  },
  "language_info": {
   "codemirror_mode": {
    "name": "ipython",
    "version": 3
   },
   "file_extension": ".py",
   "mimetype": "text/x-python",
   "name": "python",
   "nbconvert_exporter": "python",
   "pygments_lexer": "ipython3",
   "version": "3.13.2"
  }
 },
 "nbformat": 4,
 "nbformat_minor": 5
}
