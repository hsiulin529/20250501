{
 "cells": [
  {
   "cell_type": "code",
   "execution_count": 6,
   "id": "861bad62",
   "metadata": {},
   "outputs": [
    {
     "data": {
      "text/plain": [
       "[{'姓名': '李慶亮', '數學': 39, '英文': 71, '國文': 83},\n",
       " {'姓名': '游一鈺', '數學': 49, '英文': 45, '國文': 43},\n",
       " {'姓名': '黃佩芬', '數學': 62, '英文': 70, '國文': 60},\n",
       " {'姓名': '李政成', '數學': 4, '英文': 28, '國文': 45},\n",
       " {'姓名': '張俊傑', '數學': 46, '英文': 33, '國文': 40},\n",
       " {'姓名': '聶心怡', '數學': 67, '英文': 30, '國文': 70}]"
      ]
     },
     "execution_count": 6,
     "metadata": {},
     "output_type": "execute_result"
    }
   ],
   "source": [
    "import random\n",
    "\n",
    "file = open(\"names.txt\",encoding='utf-8')\n",
    "contents:list[str] = file.readlines()\n",
    "file.close()\n",
    "names:list[str] = [name.strip() for name in contents]\n",
    "\n",
    "pick=int(input(\"請輸入所需要的姓名數量\"));\n",
    "selected_names=random.sample(names,pick)\n",
    "students_data:list[dict]=[\n",
    "    {\n",
    "        \"姓名\":name,\n",
    "        \"數學\":random.randint(0,100),\n",
    "        \"英文\":random.randint(0,100),\n",
    "        \"國文\":random.randint(0,100)\n",
    "    \n",
    "        \n",
    "  }\n",
    "  for name in selected_names]\n",
    "\n",
    "students_data\n",
    "\n"
   ]
  },
  {
   "cell_type": "code",
   "execution_count": 5,
   "id": "c6e531a4",
   "metadata": {},
   "outputs": [
    {
     "data": {
      "text/plain": [
       "[{'姓名': '余宗儒', '國文': 93, '英文': 87, '數學': 67},\n",
       " {'姓名': '王筱婷', '國文': 54, '英文': 92, '數學': 88},\n",
       " {'姓名': '蕭怡伶', '國文': 89, '英文': 64, '數學': 52},\n",
       " {'姓名': '吳淑惠', '國文': 60, '英文': 55, '數學': 81},\n",
       " {'姓名': '林向鈺', '國文': 83, '英文': 56, '數學': 80},\n",
       " {'姓名': '高智超', '國文': 92, '英文': 84, '數學': 77}]"
      ]
     },
     "execution_count": 5,
     "metadata": {},
     "output_type": "execute_result"
    }
   ],
   "source": [
    "import random\n",
    "\n",
    "with open(\"names.txt\",encoding='utf-8') as file:\n",
    "    contents:list[str] = file.readlines()\n",
    "\n",
    "names:list[str] = [name.strip() for name in contents]\n",
    "pick = int(input(\"請輸入所需要的姓名數量:\"));\n",
    "\n",
    "selected_names = random.sample(names, pick)\n",
    "students_data:list[dict] = [\n",
    "    {\n",
    "        '姓名':name,\n",
    "        '國文':random.randint(50,100),\n",
    "        '英文':random.randint(50,100),\n",
    "        '數學':random.randint(50, 100) \n",
    "    }\n",
    "    for name in selected_names]\n",
    "students_data"
   ]
  }
 ],
 "metadata": {
  "kernelspec": {
   "display_name": "base",
   "language": "python",
   "name": "python3"
  },
  "language_info": {
   "codemirror_mode": {
    "name": "ipython",
    "version": 3
   },
   "file_extension": ".py",
   "mimetype": "text/x-python",
   "name": "python",
   "nbconvert_exporter": "python",
   "pygments_lexer": "ipython3",
   "version": "3.13.2"
  }
 },
 "nbformat": 4,
 "nbformat_minor": 5
}
