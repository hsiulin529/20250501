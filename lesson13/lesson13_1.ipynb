{
<<<<<<< HEAD
 "cells": [
  {
   "cell_type": "code",
   "execution_count": 1,
   "id": "71db25dc",
   "metadata": {},
   "outputs": [],
   "source": [
    "import matplotlib.pyplot as plt"
   ]
  }
 ],
=======
 "cells": [],
>>>>>>> e9f17764de994153ed6b761e9abca4ac7db53011
 "metadata": {
  "kernelspec": {
   "display_name": "python2_4",
   "language": "python",
   "name": "python3"
  },
  "language_info": {
<<<<<<< HEAD
   "codemirror_mode": {
    "name": "ipython",
    "version": 3
   },
   "file_extension": ".py",
   "mimetype": "text/x-python",
   "name": "python",
   "nbconvert_exporter": "python",
   "pygments_lexer": "ipython3",
   "version": "3.10.18"
=======
   "name": "python",
   "version": "3.11.13"
>>>>>>> e9f17764de994153ed6b761e9abca4ac7db53011
  }
 },
 "nbformat": 4,
 "nbformat_minor": 5
}
