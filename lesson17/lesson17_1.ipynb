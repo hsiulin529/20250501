{
 "cells": [
  {
   "cell_type": "code",
   "execution_count": 51,
   "id": "7aebdd76",
   "metadata": {},
   "outputs": [
    {
     "data": {
      "text/html": [
       "<div>\n",
       "<style scoped>\n",
       "    .dataframe tbody tr th:only-of-type {\n",
       "        vertical-align: middle;\n",
       "    }\n",
       "\n",
       "    .dataframe tbody tr th {\n",
       "        vertical-align: top;\n",
       "    }\n",
       "\n",
       "    .dataframe thead th {\n",
       "        text-align: right;\n",
       "    }\n",
       "</style>\n",
       "<table border=\"1\" class=\"dataframe\">\n",
       "  <thead>\n",
       "    <tr style=\"text-align: right;\">\n",
       "      <th></th>\n",
       "      <th>strings</th>\n",
       "      <th>ints</th>\n",
       "      <th>floats</th>\n",
       "    </tr>\n",
       "  </thead>\n",
       "  <tbody>\n",
       "    <tr>\n",
       "      <th>0</th>\n",
       "      <td>adam</td>\n",
       "      <td>1</td>\n",
       "      <td>1.123</td>\n",
       "    </tr>\n",
       "    <tr>\n",
       "      <th>1</th>\n",
       "      <td>mike</td>\n",
       "      <td>3</td>\n",
       "      <td>1000.230</td>\n",
       "    </tr>\n",
       "  </tbody>\n",
       "</table>\n",
       "</div>"
      ],
      "text/plain": [
       "  strings  ints    floats\n",
       "0    adam     1     1.123\n",
       "1    mike     3  1000.230"
      ]
     },
     "metadata": {},
     "output_type": "display_data"
    },
    {
     "data": {
      "text/html": [
       "<style type=\"text/css\">\n",
       "</style>\n",
       "<table id=\"T_71a07\">\n",
       "  <thead>\n",
       "    <tr>\n",
       "      <th class=\"blank level0\" >&nbsp;</th>\n",
       "      <th id=\"T_71a07_level0_col0\" class=\"col_heading level0 col0\" >STRINGS</th>\n",
       "      <th id=\"T_71a07_level0_col1\" class=\"col_heading level0 col1\" >INTS</th>\n",
       "      <th id=\"T_71a07_level0_col2\" class=\"col_heading level0 col2\" >FLOATS</th>\n",
       "    </tr>\n",
       "  </thead>\n",
       "  <tbody>\n",
       "    <tr>\n",
       "      <th id=\"T_71a07_level0_row0\" class=\"row_heading level0 row0\" >列1</th>\n",
       "      <td id=\"T_71a07_row0_col0\" class=\"data row0 col0\" >adam</td>\n",
       "      <td id=\"T_71a07_row0_col1\" class=\"data row0 col1\" >1</td>\n",
       "      <td id=\"T_71a07_row0_col2\" class=\"data row0 col2\" >1.123</td>\n",
       "    </tr>\n",
       "    <tr>\n",
       "      <th id=\"T_71a07_level0_row1\" class=\"row_heading level0 row1\" >列2</th>\n",
       "      <td id=\"T_71a07_row1_col0\" class=\"data row1 col0\" >mike</td>\n",
       "      <td id=\"T_71a07_row1_col1\" class=\"data row1 col1\" >3</td>\n",
       "      <td id=\"T_71a07_row1_col2\" class=\"data row1 col2\" >1,000.230</td>\n",
       "    </tr>\n",
       "  </tbody>\n",
       "</table>\n"
      ],
      "text/plain": [
       "<pandas.io.formats.style.Styler at 0x27a845222c0>"
      ]
     },
     "execution_count": 51,
     "metadata": {},
     "output_type": "execute_result"
    }
   ],
   "source": [
    "import pandas as pd\n",
    "import numpy as np\n",
    "\n",
    "df=pd.DataFrame({\n",
    "    \"strings\":[\"adam\",\"mike\"],\n",
    "    \"ints\":[1,3],\n",
    "    \"floats\":[1.123,1000.23]\n",
    "})\n",
    "display(df)\n",
    "s = df.style\\\n",
    ".format(precision=3, thousands=\",\", decimal='.')\\\n",
    ".format_index(str.upper,axis=1)\\\n",
    ".relabel_index([\"列1\",\"列2\"])\n",
    "\n",
    "s\n",
    "\n"
   ]
  },
  {
   "cell_type": "code",
   "execution_count": 52,
   "id": "7ffcbeca",
   "metadata": {},
   "outputs": [
    {
     "name": "stdout",
     "output_type": "stream",
     "text": [
      "<class 'pandas.core.frame.DataFrame'>\n",
      "DatetimeIndex: 100 entries, 2024-01-01 to 2024-04-09\n",
      "Freq: D\n",
      "Data columns (total 2 columns):\n",
      " #   Column  Non-Null Count  Dtype  \n",
      "---  ------  --------------  -----  \n",
      " 0   台北      100 non-null    float64\n",
      " 1   東京      100 non-null    float64\n",
      "dtypes: float64(2)\n",
      "memory usage: 2.3 KB\n"
     ]
    }
   ],
   "source": [
    "weather_df=pd.DataFrame(np.random.rand(100,2)*5,\n",
    "                        index=pd.date_range(start=\"2024-01-01\",periods=100),\n",
    "                        columns=[\"台北\",\"東京\"])\n",
    "weather_df.info()"
   ]
  },
  {
   "cell_type": "code",
   "execution_count": 53,
   "id": "d127fe89",
   "metadata": {},
   "outputs": [
    {
     "data": {
      "text/html": [
       "<div>\n",
       "<style scoped>\n",
       "    .dataframe tbody tr th:only-of-type {\n",
       "        vertical-align: middle;\n",
       "    }\n",
       "\n",
       "    .dataframe tbody tr th {\n",
       "        vertical-align: top;\n",
       "    }\n",
       "\n",
       "    .dataframe thead th {\n",
       "        text-align: right;\n",
       "    }\n",
       "</style>\n",
       "<table border=\"1\" class=\"dataframe\">\n",
       "  <thead>\n",
       "    <tr style=\"text-align: right;\">\n",
       "      <th></th>\n",
       "      <th>台北</th>\n",
       "      <th>東京</th>\n",
       "    </tr>\n",
       "  </thead>\n",
       "  <tbody>\n",
       "    <tr>\n",
       "      <th>2024-01-01</th>\n",
       "      <td>0.990917</td>\n",
       "      <td>2.631729</td>\n",
       "    </tr>\n",
       "    <tr>\n",
       "      <th>2024-01-02</th>\n",
       "      <td>0.516992</td>\n",
       "      <td>2.452715</td>\n",
       "    </tr>\n",
       "    <tr>\n",
       "      <th>2024-01-03</th>\n",
       "      <td>4.858613</td>\n",
       "      <td>1.864925</td>\n",
       "    </tr>\n",
       "    <tr>\n",
       "      <th>2024-01-04</th>\n",
       "      <td>4.980357</td>\n",
       "      <td>4.395953</td>\n",
       "    </tr>\n",
       "    <tr>\n",
       "      <th>2024-01-05</th>\n",
       "      <td>2.638602</td>\n",
       "      <td>0.404186</td>\n",
       "    </tr>\n",
       "    <tr>\n",
       "      <th>...</th>\n",
       "      <td>...</td>\n",
       "      <td>...</td>\n",
       "    </tr>\n",
       "    <tr>\n",
       "      <th>2024-04-05</th>\n",
       "      <td>0.894996</td>\n",
       "      <td>1.914051</td>\n",
       "    </tr>\n",
       "    <tr>\n",
       "      <th>2024-04-06</th>\n",
       "      <td>4.510804</td>\n",
       "      <td>4.092970</td>\n",
       "    </tr>\n",
       "    <tr>\n",
       "      <th>2024-04-07</th>\n",
       "      <td>4.448355</td>\n",
       "      <td>3.185535</td>\n",
       "    </tr>\n",
       "    <tr>\n",
       "      <th>2024-04-08</th>\n",
       "      <td>2.014292</td>\n",
       "      <td>3.458932</td>\n",
       "    </tr>\n",
       "    <tr>\n",
       "      <th>2024-04-09</th>\n",
       "      <td>2.424029</td>\n",
       "      <td>2.414865</td>\n",
       "    </tr>\n",
       "  </tbody>\n",
       "</table>\n",
       "<p>100 rows × 2 columns</p>\n",
       "</div>"
      ],
      "text/plain": [
       "                  台北        東京\n",
       "2024-01-01  0.990917  2.631729\n",
       "2024-01-02  0.516992  2.452715\n",
       "2024-01-03  4.858613  1.864925\n",
       "2024-01-04  4.980357  4.395953\n",
       "2024-01-05  2.638602  0.404186\n",
       "...              ...       ...\n",
       "2024-04-05  0.894996  1.914051\n",
       "2024-04-06  4.510804  4.092970\n",
       "2024-04-07  4.448355  3.185535\n",
       "2024-04-08  2.014292  3.458932\n",
       "2024-04-09  2.424029  2.414865\n",
       "\n",
       "[100 rows x 2 columns]"
      ]
     },
     "execution_count": 53,
     "metadata": {},
     "output_type": "execute_result"
    }
   ],
   "source": [
    "weather_df.loc[\"2024-01-10\":\"2024-01-30\"]\n",
    "weather_df.loc[\"2024\"]"
   ]
  },
  {
   "cell_type": "code",
   "execution_count": null,
   "id": "d6c39517",
   "metadata": {},
   "outputs": [
    {
     "data": {
      "text/plain": [
       "<Figure size 1000x600 with 0 Axes>"
      ]
     },
     "metadata": {},
     "output_type": "display_data"
    }
   ],
   "source": [
    "import matplotlib.pyplot as plt\n",
    "\n",
    "figure=plt.figure(figsize=(10,6))\n",
    "axes=figure.add_subplot(1,1,1)\n",
    "axes.plot(weather_df.index,weather_df[\"Tokyo\"],linestyle=\"\",marker=\".\")\n",
    "axes.plot(weather_df.index,weather_df[\"Tokyo\"],linestyle=\"\",marker=\".\")\n",
    "         \n",
    "\n",
    "figure = plt.figure(figsize=(10,6))\n",
    "axes = figure.add_subplot(1,1,1)\n",
    "axes.plot(weather_df.index,weather_df['Tokyo'],label='Tokyyo',linestyle='',marker='.')\n",
    "axes.plot(weather_df.index,weather_df['Taipei'],label='Taiepi',linestyle='',marker='.')\n",
    "plt.show()\n",
    "plt.close()"
   ]
  }
 ],
 "metadata": {
  "kernelspec": {
   "display_name": "python2_4",
   "language": "python",
   "name": "python3"
  },
  "language_info": {
   "codemirror_mode": {
    "name": "ipython",
    "version": 3
   },
   "file_extension": ".py",
   "mimetype": "text/x-python",
   "name": "python",
   "nbconvert_exporter": "python",
   "pygments_lexer": "ipython3",
   "version": "3.10.18"
  }
 },
 "nbformat": 4,
 "nbformat_minor": 5
}
