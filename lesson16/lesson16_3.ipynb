{
 "cells": [
  {
   "cell_type": "code",
   "execution_count": 13,
   "id": "da3a79c2",
   "metadata": {},
   "outputs": [],
   "source": [
    "import numpy as np\n",
    "import pandas as pd\n",
    "#建立50位學生5個分數,每個分數的值是50~100之間的隨機整數\n",
    "scores = np.random.randint(50,101,size=(50, 5))\n",
    "score_pd = pd.DataFrame(scores,\n",
    "             columns=['國文', '英文', '數學', '地理', '歷史'],\n",
    "             index=[f'學生{index}' for index in range(1,51)])\n",
    "type(score_pd.index)\n",
    "score_pd.columns.name = '科目'\n",
    "score_pd.index.name = '學號'\n",
    "score_pd.to_excel('3年7班.xlsx',index=True)"
   ]
  },
  {
   "cell_type": "code",
   "execution_count": null,
   "id": "243ee61b",
   "metadata": {},
   "outputs": [
    {
     "name": "stdout",
     "output_type": "stream",
     "text": [
      "C:\\Users\\student\\Documents\\github_lin\\20250501\\lesson16\\excel\\3年5班.xlsx\n",
      "C:\\Users\\student\\Documents\\github_lin\\20250501\\lesson16\\excel\\3年6班.xlsx\n",
      "C:\\Users\\student\\Documents\\github_lin\\20250501\\lesson16\\excel\\3年7班.xlsx\n"
     ]
    }
   ],
   "source": [
    "import os\n",
    "\n",
    "def \n",
    "script_path = os.path.realpath(__name__)\n",
    "script_root = os.path.dirname(script_path)\n",
    "excel_folder = os.path.join(script_root,\"excel\")\n",
    "for excel_name in os.listdir(excel_folder):\n",
    "    excel_path=os.path.join(excel_folder,excel_name)\n",
    "    print(excel_path)"
   ]
  }
 ],
 "metadata": {
  "kernelspec": {
   "display_name": "python2_4",
   "language": "python",
   "name": "python3"
  },
  "language_info": {
   "codemirror_mode": {
    "name": "ipython",
    "version": 3
   },
   "file_extension": ".py",
   "mimetype": "text/x-python",
   "name": "python",
   "nbconvert_exporter": "python",
   "pygments_lexer": "ipython3",
   "version": "3.10.18"
  }
 },
 "nbformat": 4,
 "nbformat_minor": 5
}
