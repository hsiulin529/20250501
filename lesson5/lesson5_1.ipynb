{
 "cells": [
  {
   "cell_type": "code",
   "execution_count": 5,
   "id": "718369e1",
   "metadata": {},
   "outputs": [
    {
     "name": "stdout",
     "output_type": "stream",
     "text": [
      "丁\n"
     ]
    }
   ],
   "source": [
    "scores=int(input(\"請輸入學生分數:\"))\n",
    "if scores<60:\n",
    "    print(\"丁\")\n",
    "elif scores<70:\n",
    "    print(\"丙\")\n",
    "elif scores<80:\n",
    "    print(\"乙\")\n",
    "elif scores<90:\n",
    "    print(\"甲\")\n",
    "else:\n",
    "    print(\"優\")"
   ]
  },
  {
   "cell_type": "markdown",
   "id": "e3cf0835",
   "metadata": {},
   "source": [
    "### 組合兩個條件\n",
    "-巢狀判斷\n",
    "-邏輯運算子(and or)\n",
    "-ex 國數都100可得1000元\n",
    "    其中一科100得500\n",
    "    "
   ]
  },
  {
   "cell_type": "code",
   "execution_count": 12,
   "id": "27603b2b",
   "metadata": {},
   "outputs": [
    {
     "name": "stdout",
     "output_type": "stream",
     "text": [
      "得到500\n"
     ]
    }
   ],
   "source": [
    "chinese:int=int(input(\"請輸入國文成績\"))\n",
    "math:int=int(input(\"請輸入數學成績\"))\n",
    "if chinese==100 and math==100:\n",
    "    print(\"得到1000\")\n",
    "elif chinese==100 or math==100:\n",
    "    print(\"得到500\")\n",
    "else:\n",
    "    print(\"得到0\")"
   ]
  }
 ],
 "metadata": {
  "kernelspec": {
   "display_name": "base",
   "language": "python",
   "name": "python3"
  },
  "language_info": {
   "codemirror_mode": {
    "name": "ipython",
    "version": 3
   },
   "file_extension": ".py",
   "mimetype": "text/x-python",
   "name": "python",
   "nbconvert_exporter": "python",
   "pygments_lexer": "ipython3",
   "version": "3.12.9"
  }
 },
 "nbformat": 4,
 "nbformat_minor": 5
}
