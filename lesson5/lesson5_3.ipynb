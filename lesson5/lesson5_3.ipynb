{
 "cells": [
  {
   "cell_type": "code",
   "execution_count": 12,
   "id": "0dc204e2",
   "metadata": {},
   "outputs": [
    {
     "name": "stdout",
     "output_type": "stream",
     "text": [
      "恭喜已經存了30012元\n"
     ]
    }
   ],
   "source": [
    "### 存錢買機車\n",
    "deposite=0\n",
    "month=0\n",
    "while(deposite<30000):\n",
    "    total=int(input(f\"請輸入第{month}月存款\"))\n",
    "    month+=1\n",
    "    deposite += total\n",
    "print(f\"恭喜已經存了{deposite}元\")"
   ]
  },
  {
   "cell_type": "code",
   "execution_count": 25,
   "id": "57c9f5bf",
   "metadata": {},
   "outputs": [
    {
     "name": "stdout",
     "output_type": "stream",
     "text": [
      "應用程式結束\n"
     ]
    }
   ],
   "source": [
    "#奇數輸出平方\n",
    "#偶數不變\n",
    "#\"q\"離開\n",
    "\n",
    "while(True):\n",
    "    x=input(\"請輸入整數,輸入q離開\")\n",
    "    if x==\"q\":\n",
    "        break\n",
    "    elif(int(x)%2==0):\n",
    "        continue\n",
    "    else:\n",
    "        print(f\"{x}的平方是{int(x)**2}\")\n",
    "print(\"應用程式結束\")"
   ]
  },
  {
   "cell_type": "code",
   "execution_count": 3,
   "id": "eea7f750",
   "metadata": {},
   "outputs": [
    {
     "name": "stdout",
     "output_type": "stream",
     "text": [
      "48\n",
      "============================猜數字遊戲====================================\n",
      "小一點點\n",
      "你總共猜了1次\n",
      "大一點點\n",
      "你總共猜了2次\n",
      "小一點點\n",
      "你總共猜了3次\n",
      "大一點點\n",
      "你總共猜了4次\n",
      "大一點點\n",
      "你總共猜了5次\n",
      "大一點點\n",
      "你總共猜了6次\n",
      "大一點點\n",
      "你總共猜了7次\n",
      "小一點點\n",
      "你總共猜了8次\n",
      "小一點點\n",
      "你總共猜了9次\n",
      "賓果!猜對了,答案是48\n",
      "你總共猜了10次\n",
      "遊戲結束\n"
     ]
    }
   ],
   "source": [
    "#猜數字遊戲\n",
    "import random\n",
    "min=1\n",
    "max=99\n",
    "count=0\n",
    "target=random.randint(min,max)\n",
    "print(target)\n",
    "print(\"============================猜數字遊戲====================================\")\n",
    "while(True):\n",
    "    count+=1\n",
    "    keyin = int(input(f\"猜數字範圍{min}~{max}:\"))\n",
    "    if keyin >=min and keyin<=max:\n",
    "        if (keyin==target):\n",
    "            print(f\"賓果!猜對了,答案是{target}\")\n",
    "            print(f\"你總共猜了{count}次\")\n",
    "            print(\"遊戲結束\")\n",
    "            break\n",
    "        elif(keyin>target):\n",
    "            max=keyin-1\n",
    "            print(f\"小一點點\")\n",
    "            print(f\"你總共猜了{count}次\")\n",
    "        elif(keyin<target):\n",
    "            min=keyin+1\n",
    "            print(f\"大一點點\")\n",
    "            print(f\"你總共猜了{count}次\")\n",
    "    else:\n",
    "        print(\"請輸入範圍內數字\")\n"
   ]
  }
 ],
 "metadata": {
  "kernelspec": {
   "display_name": "base",
   "language": "python",
   "name": "python3"
  },
  "language_info": {
   "codemirror_mode": {
    "name": "ipython",
    "version": 3
   },
   "file_extension": ".py",
   "mimetype": "text/x-python",
   "name": "python",
   "nbconvert_exporter": "python",
   "pygments_lexer": "ipython3",
   "version": "3.12.9"
  }
 },
 "nbformat": 4,
 "nbformat_minor": 5
}
