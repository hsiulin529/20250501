{
 "cells": [
  {
   "cell_type": "code",
   "execution_count": 3,
   "id": "6e65a3ef",
   "metadata": {},
   "outputs": [
    {
     "name": "stdout",
     "output_type": "stream",
     "text": [
      "你的身高:1.68\n",
      "你的體重:55\n",
      "你的bmi:19.49\n",
      "體中適中\n"
     ]
    }
   ],
   "source": [
    "try:\n",
    "    height=float(input(\"請輸入身高(公尺)\"))\n",
    "    if height<1.20 or height>2.20:\n",
    "        raise Exception(\"身高不在偵測範圍\")\n",
    "    weight=int(input(\"請輸入體重(公斤\"))\n",
    "    if weight<30 or weight>220:\n",
    "        raise Exception(\"體重不在偵測範圍\")\n",
    "    bmi=weight/height**2\n",
    "except ValueError:\n",
    "    print(\"輸入不符\")\n",
    "except Exception as e:\n",
    "    print(e)\n",
    "else:\n",
    "    print(f\"你的身高:{height}\")\n",
    "    print(f\"你的體重:{weight}\") \n",
    "    print(f\"你的bmi:{bmi:.2f}\")\n",
    "if bmi<18.5:\n",
    "    print(\"體重過輕\")\n",
    "elif bmi<=24:\n",
    "    print(\"體中適中\")\n",
    "elif bmi<=27:\n",
    "    print(\"輕度肥胖\")\n",
    "elif bmi<=35:\n",
    "    print(\"中度肥胖\")\n",
    "else:\n",
    "    print(\"重度肥胖\")"
   ]
  }
 ],
 "metadata": {
  "kernelspec": {
   "display_name": "base",
   "language": "python",
   "name": "python3"
  },
  "language_info": {
   "codemirror_mode": {
    "name": "ipython",
    "version": 3
   },
   "file_extension": ".py",
   "mimetype": "text/x-python",
   "name": "python",
   "nbconvert_exporter": "python",
   "pygments_lexer": "ipython3",
   "version": "3.12.9"
  }
 },
 "nbformat": 4,
 "nbformat_minor": 5
}
