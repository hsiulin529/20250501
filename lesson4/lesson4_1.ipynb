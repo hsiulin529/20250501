{
 "cells": [
  {
   "cell_type": "code",
   "execution_count": 2,
   "id": "0717aecf",
   "metadata": {},
   "outputs": [
    {
     "name": "stdout",
     "output_type": "stream",
     "text": [
      "應用程式結束\n"
     ]
    }
   ],
   "source": [
    "if False:\n",
    "    print(\"這是true的程式區塊\")\n",
    "    print(\"現在是true\")\n",
    "print(\"應用程式結束\")"
   ]
  },
  {
   "cell_type": "code",
   "execution_count": 9,
   "id": "d2ef5830",
   "metadata": {},
   "outputs": [
    {
     "name": "stdout",
     "output_type": "stream",
     "text": [
      "這是true的程式區塊\n",
      "現在是true\n",
      "應用程式結束\n"
     ]
    }
   ],
   "source": [
    "#雙向選擇一定執行其中一個\n",
    "if True:\n",
    "    print(\"這是true的程式區塊\")\n",
    "    print(\"現在是true\")\n",
    "\n",
    "else:\n",
    "    print(\"這是false的程式區塊\")\n",
    "    print(\"現在是false\")\n",
    "print(\"應用程式結束\")"
   ]
  },
  {
   "cell_type": "code",
   "execution_count": 13,
   "id": "6cf63dbb",
   "metadata": {},
   "outputs": [
    {
     "name": "stdout",
     "output_type": "stream",
     "text": [
      "可以考駕照\n"
     ]
    }
   ],
   "source": [
    "age=int(input(\"請輸入年齡\"))\n",
    "if age>=18:\n",
    "    print(\"可以考駕照\")\n",
    "else :\n",
    "    print(\"不可以考駕照\")"
   ]
  },
  {
   "cell_type": "code",
   "execution_count": 4,
   "id": "9513ba26",
   "metadata": {},
   "outputs": [
    {
     "name": "stdout",
     "output_type": "stream",
     "text": [
      "105\n"
     ]
    }
   ],
   "source": [
    "scores=int(input(\"請輸入學生分數(最高300分)\"))\n",
    "add=input(\"學生是否符合加分條件?(y,n)\")\n",
    "if (add==\"y\"):\n",
    "    scores*=1.05\n",
    "print(round(scores))"
   ]
  }
 ],
 "metadata": {
  "kernelspec": {
   "display_name": "base",
   "language": "python",
   "name": "python3"
  },
  "language_info": {
   "codemirror_mode": {
    "name": "ipython",
    "version": 3
   },
   "file_extension": ".py",
   "mimetype": "text/x-python",
   "name": "python",
   "nbconvert_exporter": "python",
   "pygments_lexer": "ipython3",
   "version": "3.12.9"
  }
 },
 "nbformat": 4,
 "nbformat_minor": 5
}
