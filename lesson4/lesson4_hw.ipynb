{
 "cells": [
  {
   "cell_type": "code",
   "execution_count": 4,
   "id": "4573e3fc",
   "metadata": {},
   "outputs": [
    {
     "name": "stdout",
     "output_type": "stream",
     "text": [
      "體重不在偵測範圍\n"
     ]
    }
   ],
   "source": [
    "try:\n",
    "    height=float(input(\"請輸入身高(公尺)\"))\n",
    "    if height<1.20 or height>2.20:\n",
    "        raise Exception(\"身高不在偵測範圍\")\n",
    "    weight=int(input(\"請輸入體重(公斤\"))\n",
    "    if weight<30 or weight>220:\n",
    "        raise Exception(\"體重不在偵測範圍\")\n",
    "    bmi=weight/height**2\n",
    "except ValueError:\n",
    "    print(\"輸入不符\")\n",
    "except Exception as e:\n",
    "    print(e)\n",
    "else:\n",
    "    print(f\"你的身高:{height}\")\n",
    "    print(f\"你的體重:{weight}\") \n",
    "    print(f\"你的bmi:{bmi:.2f}\")"
   ]
  }
 ],
 "metadata": {
  "kernelspec": {
   "display_name": "base",
   "language": "python",
   "name": "python3"
  },
  "language_info": {
   "codemirror_mode": {
    "name": "ipython",
    "version": 3
   },
   "file_extension": ".py",
   "mimetype": "text/x-python",
   "name": "python",
   "nbconvert_exporter": "python",
   "pygments_lexer": "ipython3",
   "version": "3.12.9"
  }
 },
 "nbformat": 4,
 "nbformat_minor": 5
}
