{
 "cells": [
  {
   "cell_type": "markdown",
   "id": "09185df1",
   "metadata": {},
   "source": [
    "###tuple\n",
    "-不可變變數(immutable)\n",
    "-串列資料(Sequence)->有順序的資料\n",
    "-由符號建立(xxx,xxx,xxxx)由符號建立(xxx,xxx,xxxx)"
   ]
  },
  {
   "cell_type": "code",
   "execution_count": 9,
   "id": "acf705b7",
   "metadata": {},
   "outputs": [
    {
     "data": {
      "text/plain": [
       "('星期一', '星期二', '星期三', '星期四', '星期五', '星期六', '星期天')"
      ]
     },
     "execution_count": 9,
     "metadata": {},
     "output_type": "execute_result"
    }
   ],
   "source": [
    "weekdays:tuple[str]=(\"星期一\",\"星期二\",\"星期三\",\"星期四\",\"星期五\",\"星期六\",\"星期天\",)\n",
    "weekdays"
   ]
  },
  {
   "cell_type": "code",
   "execution_count": 10,
   "id": "cfc26b23",
   "metadata": {},
   "outputs": [
    {
     "data": {
      "text/plain": [
       "'星期天'"
      ]
     },
     "execution_count": 10,
     "metadata": {},
     "output_type": "execute_result"
    }
   ],
   "source": [
    "###透過索引編號取得元素\n",
    "weekdays[6]"
   ]
  },
  {
   "cell_type": "markdown",
   "id": "12661a62",
   "metadata": {},
   "source": [
    "### tuple是串列資料,明確知道執行幾次"
   ]
  },
  {
   "cell_type": "code",
   "execution_count": 11,
   "id": "30d36bce",
   "metadata": {},
   "outputs": [
    {
     "name": "stdout",
     "output_type": "stream",
     "text": [
      "星期一\n",
      "星期二\n",
      "星期三\n",
      "星期四\n",
      "星期五\n",
      "星期六\n",
      "星期天\n"
     ]
    }
   ],
   "source": [
    "for days in weekdays:\n",
    "    print(days)"
   ]
  },
  {
   "cell_type": "code",
   "execution_count": null,
   "id": "cbffc0bd",
   "metadata": {},
   "outputs": [],
   "source": [
    "###tuple最常用的操作方法->拆解法"
   ]
  },
  {
   "cell_type": "code",
   "execution_count": 12,
   "id": "d4f65978",
   "metadata": {},
   "outputs": [
    {
     "data": {
      "text/plain": [
       "345"
      ]
     },
     "execution_count": 12,
     "metadata": {},
     "output_type": "execute_result"
    }
   ],
   "source": [
    "(name,age,scores)=(\"robert\",35,345)\n",
    "name\n",
    "age\n",
    "scores"
   ]
  },
  {
   "cell_type": "code",
   "execution_count": 13,
   "id": "120db6a4",
   "metadata": {},
   "outputs": [
    {
     "data": {
      "text/plain": [
       "345"
      ]
     },
     "execution_count": 13,
     "metadata": {},
     "output_type": "execute_result"
    }
   ],
   "source": [
    "###小括號可省略\n",
    "name,age,scores=\"robert\",35,345\n",
    "name\n",
    "age\n",
    "scores"
   ]
  },
  {
   "cell_type": "code",
   "execution_count": 14,
   "id": "ca317910",
   "metadata": {},
   "outputs": [
    {
     "data": {
      "text/plain": [
       "('robert', 35, 345)"
      ]
     },
     "execution_count": 14,
     "metadata": {},
     "output_type": "execute_result"
    }
   ],
   "source": [
    "name,age,scores"
   ]
  }
 ],
 "metadata": {
  "kernelspec": {
   "display_name": "base",
   "language": "python",
   "name": "python3"
  },
  "language_info": {
   "codemirror_mode": {
    "name": "ipython",
    "version": 3
   },
   "file_extension": ".py",
   "mimetype": "text/x-python",
   "name": "python",
   "nbconvert_exporter": "python",
   "pygments_lexer": "ipython3",
   "version": "3.12.9"
  }
 },
 "nbformat": 4,
 "nbformat_minor": 5
}
