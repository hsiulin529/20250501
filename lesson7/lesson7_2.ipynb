{
 "cells": [
  {
   "cell_type": "code",
   "execution_count": 2,
   "id": "e304c8f7",
   "metadata": {},
   "outputs": [
    {
     "name": "stdout",
     "output_type": "stream",
     "text": [
      "1 3 5 a b c結束\n"
     ]
    }
   ],
   "source": [
    "print(1,3,5,\"a\",\"b\",\"c\",end=\"結束\\n\")"
   ]
  },
  {
   "cell_type": "code",
   "execution_count": 3,
   "id": "ff581e17",
   "metadata": {},
   "outputs": [
    {
     "name": "stdout",
     "output_type": "stream",
     "text": [
      "1-3-5-a-b-c結束\n"
     ]
    }
   ],
   "source": [
    "print(1,3,5,\"a\",\"b\",\"c\",end=\"結束\\n\",sep=\"-\")"
   ]
  }
 ],
 "metadata": {
  "kernelspec": {
   "display_name": "base",
   "language": "python",
   "name": "python3"
  },
  "language_info": {
   "codemirror_mode": {
    "name": "ipython",
    "version": 3
   },
   "file_extension": ".py",
   "mimetype": "text/x-python",
   "name": "python",
   "nbconvert_exporter": "python",
   "pygments_lexer": "ipython3",
   "version": "3.12.9"
  }
 },
 "nbformat": 4,
 "nbformat_minor": 5
}
