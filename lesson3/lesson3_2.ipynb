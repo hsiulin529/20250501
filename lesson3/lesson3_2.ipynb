{
 "cells": [
  {
   "cell_type": "code",
   "execution_count": 1,
   "id": "213d7cee",
   "metadata": {},
   "outputs": [
    {
     "name": "stdout",
     "output_type": "stream",
     "text": [
      "5\n"
     ]
    }
   ],
   "source": [
    "n=5\n",
    "n+-10\n",
    "print(n)"
   ]
  },
  {
   "cell_type": "markdown",
   "id": "9b25c1ce",
   "metadata": {},
   "source": [
    "#記得import"
   ]
  },
  {
   "cell_type": "code",
   "execution_count": 19,
   "id": "0f0ce50b",
   "metadata": {},
   "outputs": [
    {
     "name": "stdout",
     "output_type": "stream",
     "text": [
      "寬3\n",
      "長4\n",
      "斜邊5.0\n"
     ]
    }
   ],
   "source": [
    "import math\n",
    "\n",
    "side=eval(input(\"請輸入寬\"))\n",
    "side2=eval(input(\"請輸入長\"))\n",
    "side3=math.sqrt(side**2+side2**2)\n",
    "print(f\"寬{side}\")\n",
    "print(f\"長{side2}\")\n",
    "print(f\"斜邊{side3}\")"
   ]
  },
  {
   "cell_type": "code",
   "execution_count": null,
   "id": "4dda2fc3",
   "metadata": {},
   "outputs": [
    {
     "name": "stdout",
     "output_type": "stream",
     "text": [
      "30.000000000000004\n"
     ]
    }
   ],
   "source": [
    "import math\n",
    "side=eval(input(\"請輸入對邊\"))\n",
    "side2=eval(input(\"請輸入斜邊\"))\n",
    "result=math.asin(side/side2)\n",
    "result=math.degrees(result)\n",
    "\n",
    "side=eval(input(\"請輸入寬\"))\n",
    "side2=eval(input(\"請輸入長\"))\n",
    "side3=math.sqrt(side**2+side2**2)\n",
    "print(side3)"
   ]
  },
  {
   "cell_type": "markdown",
   "id": "b94021ee",
   "metadata": {},
   "source": [
    "#字串和變數組合，成為全新的變數"
   ]
  },
  {
   "cell_type": "code",
   "execution_count": 18,
   "id": "6a27ff9d",
   "metadata": {},
   "outputs": [
    {
     "name": "stdout",
     "output_type": "stream",
     "text": [
      "國文成績:92.38,數學成績:100\n"
     ]
    }
   ],
   "source": [
    "chinese=92.3756\n",
    "math=100\n",
    "print(f\"國文成績:{chinese:.2f},數學成績:{math}\")"
   ]
  }
 ],
 "metadata": {
  "kernelspec": {
   "display_name": "base",
   "language": "python",
   "name": "python3"
  },
  "language_info": {
   "codemirror_mode": {
    "name": "ipython",
    "version": 3
   },
   "file_extension": ".py",
   "mimetype": "text/x-python",
   "name": "python",
   "nbconvert_exporter": "python",
   "pygments_lexer": "ipython3",
   "version": "3.12.9"
  }
 },
 "nbformat": 4,
 "nbformat_minor": 5
}
