{
 "cells": [
  {
   "cell_type": "code",
   "execution_count": 2,
   "id": "9d266eee",
   "metadata": {},
   "outputs": [
    {
     "data": {
      "text/plain": [
       "10"
      ]
     },
     "execution_count": 2,
     "metadata": {},
     "output_type": "execute_result"
    }
   ],
   "source": [
    "2*(1+2)**2-2**2*2"
   ]
  },
  {
   "cell_type": "code",
   "execution_count": 5,
   "id": "7b6c614f",
   "metadata": {},
   "outputs": [
    {
     "name": "stdout",
     "output_type": "stream",
     "text": [
      "15\n",
      "10\n"
     ]
    }
   ],
   "source": [
    "print(5+10)\n",
    "print(5+5)"
   ]
  },
  {
   "cell_type": "markdown",
   "id": "8906a15c",
   "metadata": {},
   "source": [
    "###  建立變數(依靠指定運算子)\n",
    "###  n=15為敘述式不傳出任何東西\n"
   ]
  },
  {
   "cell_type": "code",
   "execution_count": 19,
   "id": "838b8c86",
   "metadata": {},
   "outputs": [
    {
     "name": "stdout",
     "output_type": "stream",
     "text": [
      "total= 40\n"
     ]
    }
   ],
   "source": [
    "n=15\n",
    "m=25\n",
    "total=n+m #敘述式\n",
    "print(\"total=\",total)"
   ]
  },
  {
   "cell_type": "code",
   "execution_count": 20,
   "id": "50715aa6",
   "metadata": {},
   "outputs": [
    {
     "name": "stdout",
     "output_type": "stream",
     "text": [
      "15 25\n"
     ]
    }
   ],
   "source": [
    "x=5+10\n",
    "y=20+5\n",
    "print(x,y)"
   ]
  },
  {
   "cell_type": "markdown",
   "id": "69f865d3",
   "metadata": {},
   "source": [
    "###  輸入\n",
    "-input\n",
    "###  輸出\n",
    "-print"
   ]
  },
  {
   "cell_type": "code",
   "execution_count": 25,
   "id": "68553f02",
   "metadata": {},
   "outputs": [
    {
     "name": "stdout",
     "output_type": "stream",
     "text": [
      "您輸入的是整數: 110\n"
     ]
    }
   ],
   "source": [
    "number1=int(input(\"請輸入第一個整數:\"))\n",
    "number2=int(input(\"請輸入第二個整數:\"))\n",
    "total=number1+number2\n",
    "print(\"您輸入的是整數:\",total)"
   ]
  },
  {
   "cell_type": "code",
   "execution_count": 31,
   "id": "7ae3f24d",
   "metadata": {},
   "outputs": [
    {
     "name": "stdout",
     "output_type": "stream",
     "text": [
      "矩形寬是 5\n",
      "矩形長是 6\n",
      "矩形面積是 30\n"
     ]
    }
   ],
   "source": [
    "width=eval(input(\"請輸入矩形寬:\"))\n",
    "height=eval(input(\"請輸入矩形高:\"))\n",
    "area=width*height\n",
    "print(\"矩形寬是\",width)\n",
    "print(\"矩形長是\",height)\n",
    "print(\"矩形面積是\",area)"
   ]
  }
 ],
 "metadata": {
  "kernelspec": {
   "display_name": "base",
   "language": "python",
   "name": "python3"
  },
  "language_info": {
   "codemirror_mode": {
    "name": "ipython",
    "version": 3
   },
   "file_extension": ".py",
   "mimetype": "text/x-python",
   "name": "python",
   "nbconvert_exporter": "python",
   "pygments_lexer": "ipython3",
   "version": "3.12.9"
  }
 },
 "nbformat": 4,
 "nbformat_minor": 5
}
