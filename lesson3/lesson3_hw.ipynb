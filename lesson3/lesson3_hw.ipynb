{
 "cells": [
  {
   "cell_type": "code",
   "execution_count": 10,
   "id": "dcd02840",
   "metadata": {},
   "outputs": [
    {
     "name": "stdout",
     "output_type": "stream",
     "text": [
      "你的身高:1.68\n",
      "你的體重:55\n",
      "你的bmi:19.48696145124717\n"
     ]
    }
   ],
   "source": [
    "import  math\n",
    "height=eval(input(\"請輸入你的身高(m)\"))\n",
    "weight=eval(input(\"請輸入你的體重(kg)\"))\n",
    "bmi=weight/height**2\n",
    "print(f\"你的身高:{height}\")\n",
    "print(f\"你的體重:{weight}\")\n",
    "print(f\"你的bmi:{bmi}\")"
   ]
  }
 ],
 "metadata": {
  "kernelspec": {
   "display_name": "base",
   "language": "python",
   "name": "python3"
  },
  "language_info": {
   "codemirror_mode": {
    "name": "ipython",
    "version": 3
   },
   "file_extension": ".py",
   "mimetype": "text/x-python",
   "name": "python",
   "nbconvert_exporter": "python",
   "pygments_lexer": "ipython3",
   "version": "3.12.9"
  }
 },
 "nbformat": 4,
 "nbformat_minor": 5
}
