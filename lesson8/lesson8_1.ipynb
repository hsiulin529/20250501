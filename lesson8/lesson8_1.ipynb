{
 "cells": [
  {
   "cell_type": "code",
   "execution_count": 2,
   "id": "bd6d6293",
   "metadata": {},
   "outputs": [
    {
     "name": "stdout",
     "output_type": "stream",
     "text": [
      "robert\n",
      "45\n"
     ]
    }
   ],
   "source": [
    "#拆解法\n",
    "name,age=\"robert\",45\n",
    "print(name)\n",
    "print(age)"
   ]
  },
  {
   "cell_type": "code",
   "execution_count": 3,
   "id": "203c6a28",
   "metadata": {},
   "outputs": [
    {
     "data": {
      "text/plain": [
       "list"
      ]
     },
     "execution_count": 3,
     "metadata": {},
     "output_type": "execute_result"
    }
   ],
   "source": [
    "#建立list\n",
    "weekdays=[\"星期一\",\"星期二\",\"星期三\",\"星期四\",\"星期五\",\"星期六\",\"星期日\"]\n",
    "type(weekdays)\n"
   ]
  },
  {
   "cell_type": "code",
   "execution_count": 4,
   "id": "efede703",
   "metadata": {},
   "outputs": [
    {
     "data": {
      "text/plain": [
       "'星期日'"
      ]
     },
     "execution_count": 4,
     "metadata": {},
     "output_type": "execute_result"
    }
   ],
   "source": [
    "#取出元素和修改元素\n",
    "#使用[index]\n",
    "weekdays[0]\n",
    "weekdays[-1]"
   ]
  },
  {
   "cell_type": "code",
   "execution_count": 8,
   "id": "70b3a211",
   "metadata": {},
   "outputs": [
    {
     "data": {
      "text/plain": [
       "['星期三', '星期四', '星期五', '星期六', '星期日']"
      ]
     },
     "execution_count": 8,
     "metadata": {},
     "output_type": "execute_result"
    }
   ],
   "source": [
    "#[slice]\n",
    "#[起始(包含):結束(不包含)]\n",
    "weekdays[0:4]\n",
    "weekdays[:5]#取前五個\n",
    "weekdays[-5:]#取後五個\n"
   ]
  },
  {
   "cell_type": "code",
   "execution_count": 9,
   "id": "1f89a9bf",
   "metadata": {},
   "outputs": [
    {
     "data": {
      "text/plain": [
       "{'tw': 'taiwan', 'jp': 'japan', 'hk': 'hongkong'}"
      ]
     },
     "execution_count": 9,
     "metadata": {},
     "output_type": "execute_result"
    }
   ],
   "source": [
    "codes={\"tw\":\"taiwan\",\"jp\":\"japan\",\"hk\":\"hongkong\"}\n",
    "codes"
   ]
  },
  {
   "cell_type": "code",
   "execution_count": 10,
   "id": "ba8a01fc",
   "metadata": {},
   "outputs": [
    {
     "data": {
      "text/plain": [
       "'japan'"
      ]
     },
     "execution_count": 10,
     "metadata": {},
     "output_type": "execute_result"
    }
   ],
   "source": [
    "codes[\"jp\"]"
   ]
  },
  {
   "cell_type": "code",
   "execution_count": 11,
   "id": "c72ab370",
   "metadata": {},
   "outputs": [
    {
     "name": "stdout",
     "output_type": "stream",
     "text": [
      "tw\n",
      "taiwan\n",
      "=====\n",
      "jp\n",
      "japan\n",
      "=====\n",
      "hk\n",
      "hongkong\n",
      "=====\n"
     ]
    }
   ],
   "source": [
    "for key in codes:\n",
    "    print(key)\n",
    "    print(codes[key])\n",
    "    print(\"=====\")"
   ]
  },
  {
   "cell_type": "code",
   "execution_count": 14,
   "id": "23f0b38d",
   "metadata": {},
   "outputs": [
    {
     "data": {
      "text/plain": [
       "{'tainan', 'taipei', 'taoyuan'}"
      ]
     },
     "execution_count": 14,
     "metadata": {},
     "output_type": "execute_result"
    }
   ],
   "source": [
    "#set\n",
    "citys={\"taipei\",\"taoyuan\",\"tainan\",\"tainan\",\"taipei\"}\n",
    "citys"
   ]
  }
 ],
 "metadata": {
  "kernelspec": {
   "display_name": "base",
   "language": "python",
   "name": "python3"
  },
  "language_info": {
   "codemirror_mode": {
    "name": "ipython",
    "version": 3
   },
   "file_extension": ".py",
   "mimetype": "text/x-python",
   "name": "python",
   "nbconvert_exporter": "python",
   "pygments_lexer": "ipython3",
   "version": "3.12.9"
  }
 },
 "nbformat": 4,
 "nbformat_minor": 5
}
