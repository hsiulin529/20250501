{
 "cells": [
  {
   "cell_type": "code",
   "execution_count": 2,
   "id": "f47a986c",
   "metadata": {},
   "outputs": [
    {
     "name": "stdout",
     "output_type": "stream",
     "text": [
      "1\n",
      "2\n",
      "3\n",
      "4\n",
      "5\n",
      "6\n",
      "7\n",
      "8\n",
      "9\n",
      "10\n"
     ]
    }
   ],
   "source": [
    "###list_comprehension(快速建立list)\n",
    "###[expression for item in iterable]\n",
    "for i in range(1,11):\n",
    "    print(i)"
   ]
  },
  {
   "cell_type": "code",
   "execution_count": 3,
   "id": "3d3f4e0f",
   "metadata": {},
   "outputs": [
    {
     "data": {
      "text/plain": [
       "[2, 4, 6, 8, 10, 12, 14, 16, 18, 20]"
      ]
     },
     "execution_count": 3,
     "metadata": {},
     "output_type": "execute_result"
    }
   ],
   "source": [
    "[i*2 for i in range (1,11)]"
   ]
  },
  {
   "cell_type": "code",
   "execution_count": 4,
   "id": "34711364",
   "metadata": {},
   "outputs": [
    {
     "data": {
      "text/plain": [
       "[2, 6, 10, 14, 18]"
      ]
     },
     "execution_count": 4,
     "metadata": {},
     "output_type": "execute_result"
    }
   ],
   "source": [
    "###[expression for item in iterable if 條件式]\n",
    "[i*2 for i in range (1,11) if i%2==1]"
   ]
  },
  {
   "cell_type": "code",
   "execution_count": 5,
   "id": "9cafa795",
   "metadata": {},
   "outputs": [
    {
     "data": {
      "text/plain": [
       "[{'姓名': '張xx', 'age': 36, 'score': 256},\n",
       " {'姓名': '林xx', 'age': 55, 'score': 286},\n",
       " {'姓名': '謝xx', 'age': 35, 'score': 576}]"
      ]
     },
     "execution_count": 5,
     "metadata": {},
     "output_type": "execute_result"
    }
   ],
   "source": [
    "### map(),filter\n",
    "###記憶體內的表格資料\n",
    "students=[{\"姓名\":\"張xx\",\"age\":36,\"score\":256},\n",
    "{\"姓名\":\"林xx\",\"age\":55,\"score\":286},\n",
    "{\"姓名\":\"謝xx\",\"age\":35,\"score\":576}]\n",
    "students"
   ]
  },
  {
   "cell_type": "code",
   "execution_count": 6,
   "id": "21f72d01",
   "metadata": {},
   "outputs": [
    {
     "name": "stdout",
     "output_type": "stream",
     "text": [
      "{'姓名': '張xx', 'age': 36, 'score': 256}\n",
      "{'姓名': '林xx', 'age': 55, 'score': 286}\n",
      "{'姓名': '謝xx', 'age': 35, 'score': 576}\n"
     ]
    }
   ],
   "source": [
    "for student in students:\n",
    "    print(student)"
   ]
  },
  {
   "cell_type": "code",
   "execution_count": null,
   "id": "5b2c9f21",
   "metadata": {},
   "outputs": [],
   "source": []
  },
  {
   "cell_type": "code",
   "execution_count": 7,
   "id": "81b038ef",
   "metadata": {},
   "outputs": [],
   "source": [
    "students = [\n",
    "    {\"name\": \"Alice\", \"Chinese\": 85, \"English\": 92, \"Math\": 78},\n",
    "    {\"name\": \"Bob\", \"Chinese\": 75, \"English\": 88, \"Math\": 90},\n",
    "    {\"name\": \"Charlie\", \"Chinese\": 90, \"English\": 85, \"Math\": 85},\n",
    "    {\"name\": \"David\", \"Chinese\": 60, \"English\": 70, \"Math\": 80},\n",
    "    {\"name\": \"Eva\", \"Chinese\": 95, \"English\": 98, \"Math\": 92},\n",
    "    {\"name\": \"Frank\", \"Chinese\": 70, \"English\": 75, \"Math\": 68},\n",
    "    {\"name\": \"Grace\", \"Chinese\": 88, \"English\": 82, \"Math\": 85},\n",
    "    {\"name\": \"Helen\", \"Chinese\": 92, \"English\": 90, \"Math\": 94},\n",
    "    {\"name\": \"Ian\", \"Chinese\": 78, \"English\": 80, \"Math\": 72},\n",
    "    {\"name\": \"Jane\", \"Chinese\": 85, \"English\": 87, \"Math\": 89}]"
   ]
  },
  {
   "cell_type": "code",
   "execution_count": 8,
   "id": "85839bff",
   "metadata": {},
   "outputs": [
    {
     "name": "stdout",
     "output_type": "stream",
     "text": [
      "{'name': 'Alice', 'Chinese': 85, 'English': 92, 'Math': 78}\n",
      "{'name': 'Charlie', 'Chinese': 90, 'English': 85, 'Math': 85}\n",
      "{'name': 'Eva', 'Chinese': 95, 'English': 98, 'Math': 92}\n",
      "{'name': 'Grace', 'Chinese': 88, 'English': 82, 'Math': 85}\n",
      "{'name': 'Helen', 'Chinese': 92, 'English': 90, 'Math': 94}\n",
      "{'name': 'Jane', 'Chinese': 85, 'English': 87, 'Math': 89}\n"
     ]
    }
   ],
   "source": [
    "for student in students:\n",
    "    if student[\"Chinese\"] >= 80:\n",
    "        print(student)"
   ]
  },
  {
   "cell_type": "code",
   "execution_count": 9,
   "id": "9febbefd",
   "metadata": {},
   "outputs": [
    {
     "data": {
      "text/plain": [
       "[{'name': 'Alice', 'Chinese': 85, 'English': 92, 'Math': 78},\n",
       " {'name': 'Charlie', 'Chinese': 90, 'English': 85, 'Math': 85},\n",
       " {'name': 'Eva', 'Chinese': 95, 'English': 98, 'Math': 92},\n",
       " {'name': 'Grace', 'Chinese': 88, 'English': 82, 'Math': 85},\n",
       " {'name': 'Helen', 'Chinese': 92, 'English': 90, 'Math': 94},\n",
       " {'name': 'Jane', 'Chinese': 85, 'English': 87, 'Math': 89}]"
      ]
     },
     "execution_count": 9,
     "metadata": {},
     "output_type": "execute_result"
    }
   ],
   "source": [
    "student_80 = [student for student in students if student['Chinese'] >= 80] #過濾\n",
    "student_80"
   ]
  },
  {
   "cell_type": "markdown",
   "id": "7db3c97a",
   "metadata": {},
   "source": [
    "使用filter()的技巧\n",
    "說明書\n",
    "filter(function, iterable)\n",
    "Python 中的 filter() 函式用來從一個可迭代物件（如列表、元組等）中篩選出符合條件的元素。其基本語法如下：\n",
    "\n",
    "filter(function, iterable)\n",
    "function：一個函式，用來判斷元素是否符合條件。此函式接受一個參數，回傳布林值 True 或 False。回傳 True 的元素會被保留。\n",
    "iterable：要篩選的可迭代物件。\n",
    "filter() 會回傳一個 filter 物件（可迭代），通常會搭配 list() 或其他容器轉換使用。\n",
    "\n",
    "範例說明\n",
    "# 篩選出列表中所有偶數\n",
    "numbers = [1, 2, 3, 4, 5, 6]\n",
    "\n",
    "def is_even(n):\n",
    "    return n % 2 == 0\n",
    "\n",
    "filtered_numbers = filter(is_even, numbers)\n",
    "print(list(filtered_numbers))  # 輸出: [2, 4, 6]\n",
    "也可以用匿名函式（lambda）簡化：\n",
    "\n",
    "filtered_numbers = filter(lambda x: x % 2 == 0, numbers)\n",
    "print(list(filtered_numbers))  # 輸出: [2, 4, 6]\n",
    "使用重點\n",
    "filter() 不會改變原始資料，而是回傳一個新的可迭代物件。\n",
    "如果 function 是 None，則會過濾掉所有布林值為 False 的元素（例如 False, 0, None, '' 等）。\n",
    "items = [\"apple\", \"\", \"banana\", None, \"cherry\"]\n",
    "filtered_items = filter(None, items)\n",
    "print(list(filtered_items))  # 輸出: ['apple', 'banana', 'cherry']"
   ]
  },
  {
   "cell_type": "code",
   "execution_count": 10,
   "id": "ab296444",
   "metadata": {},
   "outputs": [
    {
     "data": {
      "text/plain": [
       "[{'name': 'Alice', 'Chinese': 85, 'English': 92, 'Math': 78},\n",
       " {'name': 'Charlie', 'Chinese': 90, 'English': 85, 'Math': 85},\n",
       " {'name': 'Eva', 'Chinese': 95, 'English': 98, 'Math': 92},\n",
       " {'name': 'Grace', 'Chinese': 88, 'English': 82, 'Math': 85},\n",
       " {'name': 'Helen', 'Chinese': 92, 'English': 90, 'Math': 94},\n",
       " {'name': 'Jane', 'Chinese': 85, 'English': 87, 'Math': 89}]"
      ]
     },
     "execution_count": 10,
     "metadata": {},
     "output_type": "execute_result"
    }
   ],
   "source": [
    "def chinese_greater_80(student):\n",
    "    if student[\"Chinese\"]>=80:\n",
    "        return student\n",
    "    else:\n",
    "        return None\n",
    "\n",
    "list(filter(chinese_greater_80,students))"
   ]
  },
  {
   "cell_type": "code",
   "execution_count": 11,
   "id": "c519a116",
   "metadata": {},
   "outputs": [
    {
     "data": {
      "text/plain": [
       "[{'name': 'Alice', 'Chinese': 85, 'English': 92, 'Math': 78},\n",
       " {'name': 'Charlie', 'Chinese': 90, 'English': 85, 'Math': 85},\n",
       " {'name': 'Eva', 'Chinese': 95, 'English': 98, 'Math': 92},\n",
       " {'name': 'Grace', 'Chinese': 88, 'English': 82, 'Math': 85},\n",
       " {'name': 'Helen', 'Chinese': 92, 'English': 90, 'Math': 94},\n",
       " {'name': 'Jane', 'Chinese': 85, 'English': 87, 'Math': 89}]"
      ]
     },
     "execution_count": 11,
     "metadata": {},
     "output_type": "execute_result"
    }
   ],
   "source": [
    "def chinese_greater_80(student):\n",
    "    if student[\"Chinese\"]>=80:\n",
    "        return student\n",
    "    else:\n",
    "        return None\n",
    "\n",
    "list(filter(lambda student:student if student[\"Chinese\"]>=80 else None,students))"
   ]
  }
 ],
 "metadata": {
  "kernelspec": {
   "display_name": "base",
   "language": "python",
   "name": "python3"
  },
  "language_info": {
   "codemirror_mode": {
    "name": "ipython",
    "version": 3
   },
   "file_extension": ".py",
   "mimetype": "text/x-python",
   "name": "python",
   "nbconvert_exporter": "python",
   "pygments_lexer": "ipython3",
   "version": "3.12.9"
  }
 },
 "nbformat": 4,
 "nbformat_minor": 5
}
