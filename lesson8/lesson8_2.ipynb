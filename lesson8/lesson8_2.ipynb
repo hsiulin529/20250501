{
 "cells": [
  {
   "cell_type": "code",
   "execution_count": 1,
   "id": "f47a986c",
   "metadata": {},
   "outputs": [
    {
     "name": "stdout",
     "output_type": "stream",
     "text": [
      "1\n",
      "2\n",
      "3\n",
      "4\n",
      "5\n",
      "6\n",
      "7\n",
      "8\n",
      "9\n",
      "10\n"
     ]
    }
   ],
   "source": [
    "###list_comprehension(快速建立list)\n",
    "###[expression for item in iterable]\n",
    "for i in range(1,11):\n",
    "    print(i)"
   ]
  },
  {
   "cell_type": "code",
   "execution_count": 2,
   "id": "3d3f4e0f",
   "metadata": {},
   "outputs": [
    {
     "data": {
      "text/plain": [
       "[2, 4, 6, 8, 10, 12, 14, 16, 18, 20]"
      ]
     },
     "execution_count": 2,
     "metadata": {},
     "output_type": "execute_result"
    }
   ],
   "source": [
    "[i*2 for i in range (1,11)]"
   ]
  },
  {
   "cell_type": "code",
   "execution_count": null,
   "id": "34711364",
   "metadata": {},
   "outputs": [
    {
     "data": {
      "text/plain": [
       "[2, 6, 10, 14, 18]"
      ]
     },
     "execution_count": 3,
     "metadata": {},
     "output_type": "execute_result"
    }
   ],
   "source": [
    "###[expression for item in iterable if 條件式]\n",
    "[i*2 for i in range (1,11) if i%2==1]"
   ]
  },
  {
   "cell_type": "code",
   "execution_count": null,
   "id": "9cafa795",
   "metadata": {},
   "outputs": [
    {
     "data": {
      "text/plain": [
       "[{'姓名': '張xx', 'age': 36, 'score': 256},\n",
       " {'姓名': '林xx', 'age': 55, 'score': 286},\n",
       " {'姓名': '謝xx', 'age': 35, 'score': 576}]"
      ]
     },
     "execution_count": 8,
     "metadata": {},
     "output_type": "execute_result"
    }
   ],
   "source": [
    "### map(),filter\n",
    "###記憶體內的表格資料\n",
    "students=[{\"姓名\":\"張xx\",\"age\":36,\"score\":256},\n",
    "{\"姓名\":\"林xx\",\"age\":55,\"score\":286},\n",
    "{\"姓名\":\"謝xx\",\"age\":35,\"score\":576}]\n",
    "students"
   ]
  },
  {
   "cell_type": "code",
   "execution_count": 9,
   "id": "21f72d01",
   "metadata": {},
   "outputs": [
    {
     "name": "stdout",
     "output_type": "stream",
     "text": [
      "{'姓名': '張xx', 'age': 36, 'score': 256}\n",
      "{'姓名': '林xx', 'age': 55, 'score': 286}\n",
      "{'姓名': '謝xx', 'age': 35, 'score': 576}\n"
     ]
    }
   ],
   "source": [
    "for student in students:\n",
    "    print(student)"
   ]
  }
 ],
 "metadata": {
  "kernelspec": {
   "display_name": "base",
   "language": "python",
   "name": "python3"
  },
  "language_info": {
   "codemirror_mode": {
    "name": "ipython",
    "version": 3
   },
   "file_extension": ".py",
   "mimetype": "text/x-python",
   "name": "python",
   "nbconvert_exporter": "python",
   "pygments_lexer": "ipython3",
   "version": "3.12.9"
  }
 },
 "nbformat": 4,
 "nbformat_minor": 5
}
