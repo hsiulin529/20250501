{
 "cells": [
  {
   "cell_type": "code",
   "execution_count": null,
   "id": "b7788488",
   "metadata": {},
   "outputs": [],
   "source": [
    "###dataclass\n",
    "from dataclasses import dataclass\n",
    "@dataclass\n",
    "class student:\n",
    "    name:str\n",
    "    chinese:int\n",
    "    english:int\n",
    "    math:int\n",
    "    #四個屬性代表初始化要有四個參數"
   ]
  },
  {
   "cell_type": "code",
   "execution_count": null,
   "id": "7b53961a",
   "metadata": {},
   "outputs": [],
   "source": [
    "students:list[student]=[(student(name=\"lin\",chinese=100,english=99,math=98))]\n",
    "#四個初始化參數"
   ]
  },
  {
   "cell_type": "code",
   "execution_count": 19,
   "id": "87c6e4ab",
   "metadata": {},
   "outputs": [
    {
     "name": "stdout",
     "output_type": "stream",
     "text": [
      "lin\n",
      "100\n",
      "98\n",
      "99\n",
      "===============\n"
     ]
    }
   ],
   "source": [
    "for student in students:\n",
    "    print(student.name)\n",
    "    print(student.chinese)\n",
    "    print(student.math)\n",
    "    print(student.english)\n",
    "    print(\"===============\")"
   ]
  }
 ],
 "metadata": {
  "kernelspec": {
   "display_name": "base",
   "language": "python",
   "name": "python3"
  },
  "language_info": {
   "codemirror_mode": {
    "name": "ipython",
    "version": 3
   },
   "file_extension": ".py",
   "mimetype": "text/x-python",
   "name": "python",
   "nbconvert_exporter": "python",
   "pygments_lexer": "ipython3",
   "version": "3.12.9"
  }
 },
 "nbformat": 4,
 "nbformat_minor": 5
}
