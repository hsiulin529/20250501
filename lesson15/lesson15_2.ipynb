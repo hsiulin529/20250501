{
 "cells": [
  {
   "cell_type": "code",
   "execution_count": 20,
   "id": "22f6d173",
   "metadata": {},
   "outputs": [
    {
     "data": {
      "text/plain": [
       "array([[ 67,  84,  62,  52,  82],\n",
       "       [ 75,  93,  65, 100,  98],\n",
       "       [ 94,  74,  87,  72, 100],\n",
       "       [ 68,  71,  70,  79,  63],\n",
       "       [ 69,  57,  62,  81, 100]], dtype=int32)"
      ]
     },
     "execution_count": 20,
     "metadata": {},
     "output_type": "execute_result"
    }
   ],
   "source": [
    "import numpy as np\n",
    "scores=np.random.randint(50,101,size=(5,5))\n",
    "scores"
   ]
  },
  {
   "cell_type": "code",
   "execution_count": 21,
   "id": "6317e741",
   "metadata": {},
   "outputs": [
    {
     "data": {
      "text/plain": [
       "array([[ 62,  52,  82],\n",
       "       [ 65, 100,  98],\n",
       "       [ 87,  72, 100]], dtype=int32)"
      ]
     },
     "execution_count": 21,
     "metadata": {},
     "output_type": "execute_result"
    }
   ],
   "source": [
    "scores[:3,2:]"
   ]
  },
  {
   "cell_type": "code",
   "execution_count": 22,
   "id": "51e4d688",
   "metadata": {},
   "outputs": [
    {
     "data": {
      "text/plain": [
       "array([ 69,  57,  62,  81, 100], dtype=int32)"
      ]
     },
     "execution_count": 22,
     "metadata": {},
     "output_type": "execute_result"
    }
   ],
   "source": [
    "scores[4]\n",
    "scores[4,:3]\n",
    "scores[4,:]"
   ]
  },
  {
   "cell_type": "code",
   "execution_count": 23,
   "id": "6421746d",
   "metadata": {},
   "outputs": [
    {
     "data": {
      "text/plain": [
       "array([[67, 84],\n",
       "       [75, 93],\n",
       "       [94, 74],\n",
       "       [68, 71],\n",
       "       [69, 57]], dtype=int32)"
      ]
     },
     "execution_count": 23,
     "metadata": {},
     "output_type": "execute_result"
    }
   ],
   "source": [
    "scores[:,:2]"
   ]
  },
  {
   "cell_type": "code",
   "execution_count": 25,
   "id": "98805cab",
   "metadata": {},
   "outputs": [
    {
     "data": {
      "text/plain": [
       "array([[ 89,  76,  56,  80,  53],\n",
       "       [ 69,  95,  98,  85,  85],\n",
       "       [ 62,  82,  62,  68,  71],\n",
       "       [ 50, 100,  63,  99,  94],\n",
       "       [ 82,  59,  97,  78,  97]], dtype=int32)"
      ]
     },
     "execution_count": 25,
     "metadata": {},
     "output_type": "execute_result"
    }
   ],
   "source": [
    "scores=np.random.randint(50,101,size=(5,5))\n",
    "scores"
   ]
  },
  {
   "cell_type": "code",
   "execution_count": 31,
   "id": "832d7024",
   "metadata": {},
   "outputs": [
    {
     "data": {
      "text/plain": [
       "array([354, 432, 345, 406, 413])"
      ]
     },
     "execution_count": 31,
     "metadata": {},
     "output_type": "execute_result"
    }
   ],
   "source": [
    "#加總\n",
    "np.sum(scores,axis=1)\n"
   ]
  },
  {
   "cell_type": "code",
   "execution_count": null,
   "id": "35410563",
   "metadata": {},
   "outputs": [],
   "source": [
    "#平均\n",
    "np.mean(scores,axis=1)"
   ]
  },
  {
   "cell_type": "code",
   "execution_count": null,
   "id": "da0e4e24",
   "metadata": {},
   "outputs": [],
   "source": [
    "#最大\n",
    "np.max(scores,axis=1)"
   ]
  },
  {
   "cell_type": "code",
   "execution_count": null,
   "id": "ab5782d1",
   "metadata": {},
   "outputs": [],
   "source": [
    "#最小\n",
    "np.min(scores,axis=1)"
   ]
  },
  {
   "cell_type": "code",
   "execution_count": null,
   "id": "855e3916",
   "metadata": {},
   "outputs": [],
   "source": [
    "#中間數\n",
    "np.median(scores,axis=1)"
   ]
  },
  {
   "cell_type": "code",
   "execution_count": null,
   "id": "48fcd1c0",
   "metadata": {},
   "outputs": [],
   "source": [
    "#標準差\n",
    "np.std(scores,axis=1)"
   ]
  }
 ],
 "metadata": {
  "kernelspec": {
   "display_name": "python2_4",
   "language": "python",
   "name": "python3"
  },
  "language_info": {
   "codemirror_mode": {
    "name": "ipython",
    "version": 3
   },
   "file_extension": ".py",
   "mimetype": "text/x-python",
   "name": "python",
   "nbconvert_exporter": "python",
   "pygments_lexer": "ipython3",
   "version": "3.10.18"
  }
 },
 "nbformat": 4,
 "nbformat_minor": 5
}
