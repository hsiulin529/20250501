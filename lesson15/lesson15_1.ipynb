{
 "cells": [
  {
   "cell_type": "code",
   "execution_count": 9,
   "id": "f46cf386",
   "metadata": {},
   "outputs": [
    {
     "data": {
      "text/plain": [
       "array([1, 3, 5, 7, 9])"
      ]
     },
     "execution_count": 9,
     "metadata": {},
     "output_type": "execute_result"
    }
   ],
   "source": [
    "import numpy as np\n",
    "np.array([1,3,5,7,9])"
   ]
  },
  {
   "cell_type": "code",
   "execution_count": 10,
   "id": "e90fb52d",
   "metadata": {},
   "outputs": [
    {
     "data": {
      "text/plain": [
       "array([[0., 0., 0., 0.],\n",
       "       [0., 0., 0., 0.],\n",
       "       [0., 0., 0., 0.]])"
      ]
     },
     "execution_count": 10,
     "metadata": {},
     "output_type": "execute_result"
    }
   ],
   "source": [
    "np.zeros((3,4))"
   ]
  },
  {
   "cell_type": "code",
   "execution_count": 11,
   "id": "224a40af",
   "metadata": {},
   "outputs": [
    {
     "data": {
      "text/plain": [
       "array([[1., 1., 1., 1.],\n",
       "       [1., 1., 1., 1.],\n",
       "       [1., 1., 1., 1.]])"
      ]
     },
     "execution_count": 11,
     "metadata": {},
     "output_type": "execute_result"
    }
   ],
   "source": [
    "np.ones((3,4))"
   ]
  },
  {
   "cell_type": "code",
   "execution_count": 12,
   "id": "399cbc87",
   "metadata": {},
   "outputs": [
    {
     "data": {
      "text/plain": [
       "array([0. , 0.1, 0.2, 0.3, 0.4, 0.5, 0.6, 0.7, 0.8, 0.9])"
      ]
     },
     "execution_count": 12,
     "metadata": {},
     "output_type": "execute_result"
    }
   ],
   "source": [
    "np.arange(0,1,0.1)"
   ]
  },
  {
   "cell_type": "code",
   "execution_count": 13,
   "id": "6942fea9",
   "metadata": {},
   "outputs": [
    {
     "data": {
      "text/plain": [
       "array([0.        , 0.11111111, 0.22222222, 0.33333333, 0.44444444,\n",
       "       0.55555556, 0.66666667, 0.77777778, 0.88888889, 1.        ])"
      ]
     },
     "execution_count": 13,
     "metadata": {},
     "output_type": "execute_result"
    }
   ],
   "source": [
    "np.linspace(0,1,10)"
   ]
  },
  {
   "cell_type": "code",
   "execution_count": 14,
   "id": "771bf4ab",
   "metadata": {},
   "outputs": [
    {
     "data": {
      "text/plain": [
       "array([[0.10148092, 0.84304151, 0.89573188, 0.81185075],\n",
       "       [0.03770141, 0.7768132 , 0.44217074, 0.97641127],\n",
       "       [0.77843793, 0.00875666, 0.23045556, 0.23290446]])"
      ]
     },
     "execution_count": 14,
     "metadata": {},
     "output_type": "execute_result"
    }
   ],
   "source": [
    "np.random.rand(3,4)"
   ]
  },
  {
   "cell_type": "code",
   "execution_count": 16,
   "id": "21286266",
   "metadata": {},
   "outputs": [
    {
     "data": {
      "text/plain": [
       "array([[100,  83,  85,  64,  99],\n",
       "       [ 93,  98,  98,  57,  66],\n",
       "       [ 56,  98, 100,  98,  81],\n",
       "       [ 95,  67,  81,  93,  91],\n",
       "       [ 68,  56,  61,  93,  89],\n",
       "       [ 89,  80,  51,  67,  71],\n",
       "       [ 61,  87,  71,  50,  61],\n",
       "       [ 78,  82,  67,  90,  93],\n",
       "       [ 55,  90,  65,  87,  68],\n",
       "       [ 52,  75,  66,  62,  65],\n",
       "       [ 79,  83,  75,  94,  83],\n",
       "       [ 73,  91,  64,  62,  59],\n",
       "       [ 55,  91,  70,  50,  80],\n",
       "       [100,  63,  93,  97,  55],\n",
       "       [ 88,  87,  89,  53,  82],\n",
       "       [ 74,  57,  84,  71,  92],\n",
       "       [ 82,  96,  69,  82,  95],\n",
       "       [ 50,  99,  95,  90,  89],\n",
       "       [ 92,  93,  89,  96,  98],\n",
       "       [ 54,  76,  53,  87,  92],\n",
       "       [ 69,  99,  70,  51,  97],\n",
       "       [ 66,  96,  67,  55,  54],\n",
       "       [ 50,  87,  86,  86,  82],\n",
       "       [ 57,  70,  53,  57,  89],\n",
       "       [ 76,  81,  64,  72,  98],\n",
       "       [ 62,  52,  93,  67,  65],\n",
       "       [ 61,  59,  85,  62,  51],\n",
       "       [ 58,  86,  86,  81,  61],\n",
       "       [ 58,  62,  94,  80,  94],\n",
       "       [ 94,  54,  58,  67,  81],\n",
       "       [ 61,  60,  82,  71,  91],\n",
       "       [ 99, 100,  96,  89,  66],\n",
       "       [ 83,  99,  71,  57,  90],\n",
       "       [ 88,  98,  97,  88,  79],\n",
       "       [ 71,  51,  74,  64,  56],\n",
       "       [ 95,  92,  83,  60,  96],\n",
       "       [ 86,  93,  77,  88,  60],\n",
       "       [ 99,  90,  89,  80,  77],\n",
       "       [ 72,  60,  52,  77,  78],\n",
       "       [ 53,  75,  67,  56,  61],\n",
       "       [ 86,  65,  57,  79,  88],\n",
       "       [ 65,  82,  91,  52,  55],\n",
       "       [ 98,  78,  52,  96,  50],\n",
       "       [ 83,  59,  96,  86,  70],\n",
       "       [ 74,  84,  84,  51,  73],\n",
       "       [ 65,  54,  92,  95,  50],\n",
       "       [ 54, 100,  62,  61,  58],\n",
       "       [ 70,  60,  76,  79,  64],\n",
       "       [ 82,  80,  93,  85,  65],\n",
       "       [ 57,  85,  75,  67,  86]], dtype=int32)"
      ]
     },
     "execution_count": 16,
     "metadata": {},
     "output_type": "execute_result"
    }
   ],
   "source": [
    "np.random.randint(50,101,size=(50,5))"
   ]
  }
 ],
 "metadata": {
  "kernelspec": {
   "display_name": "python2_4",
   "language": "python",
   "name": "python3"
  },
  "language_info": {
   "codemirror_mode": {
    "name": "ipython",
    "version": 3
   },
   "file_extension": ".py",
   "mimetype": "text/x-python",
   "name": "python",
   "nbconvert_exporter": "python",
   "pygments_lexer": "ipython3",
   "version": "3.10.18"
  }
 },
 "nbformat": 4,
 "nbformat_minor": 5
}
