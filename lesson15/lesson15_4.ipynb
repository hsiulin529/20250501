{
 "cells": [
  {
   "cell_type": "code",
   "execution_count": 22,
   "id": "7419f00a",
   "metadata": {},
   "outputs": [
    {
     "data": {
      "text/plain": [
       "0      1\n",
       "1      2\n",
       "2      3\n",
       "3      4\n",
       "4      5\n",
       "5      6\n",
       "6      7\n",
       "7      8\n",
       "8      9\n",
       "9     10\n",
       "10    11\n",
       "11    12\n",
       "12    13\n",
       "13    14\n",
       "14    15\n",
       "15    16\n",
       "16    17\n",
       "17    18\n",
       "18    19\n",
       "dtype: int64"
      ]
     },
     "execution_count": 22,
     "metadata": {},
     "output_type": "execute_result"
    }
   ],
   "source": [
    "import numpy as np\n",
    "import pandas as pd\n",
    "s1=pd.Series(np.arange(1,20))\n",
    "s1"
   ]
  },
  {
   "cell_type": "code",
   "execution_count": 23,
   "id": "21422164",
   "metadata": {},
   "outputs": [
    {
     "data": {
      "text/plain": [
       "9     10\n",
       "10    11\n",
       "11    12\n",
       "12    13\n",
       "13    14\n",
       "14    15\n",
       "15    16\n",
       "16    17\n",
       "17    18\n",
       "18    19\n",
       "dtype: int64"
      ]
     },
     "execution_count": 23,
     "metadata": {},
     "output_type": "execute_result"
    }
   ],
   "source": [
    "mask=s1>=10\n",
    "s1[mask]"
   ]
  },
  {
   "cell_type": "code",
   "execution_count": 24,
   "id": "59a06fcb",
   "metadata": {},
   "outputs": [
    {
     "data": {
      "text/plain": [
       "9     10\n",
       "10    11\n",
       "11    12\n",
       "12    13\n",
       "13    14\n",
       "14    15\n",
       "15    16\n",
       "16    17\n",
       "17    18\n",
       "18    19\n",
       "dtype: int64"
      ]
     },
     "execution_count": 24,
     "metadata": {},
     "output_type": "execute_result"
    }
   ],
   "source": [
    "s1[s1>=10]"
   ]
  },
  {
   "cell_type": "code",
   "execution_count": 25,
   "id": "cf85f92d",
   "metadata": {},
   "outputs": [
    {
     "data": {
      "text/html": [
       "<div>\n",
       "<style scoped>\n",
       "    .dataframe tbody tr th:only-of-type {\n",
       "        vertical-align: middle;\n",
       "    }\n",
       "\n",
       "    .dataframe tbody tr th {\n",
       "        vertical-align: top;\n",
       "    }\n",
       "\n",
       "    .dataframe thead th {\n",
       "        text-align: right;\n",
       "    }\n",
       "</style>\n",
       "<table border=\"1\" class=\"dataframe\">\n",
       "  <thead>\n",
       "    <tr style=\"text-align: right;\">\n",
       "      <th></th>\n",
       "      <th>國文</th>\n",
       "      <th>英文</th>\n",
       "      <th>數學</th>\n",
       "      <th>地理</th>\n",
       "      <th>歷史</th>\n",
       "    </tr>\n",
       "  </thead>\n",
       "  <tbody>\n",
       "    <tr>\n",
       "      <th>學生1</th>\n",
       "      <td>56</td>\n",
       "      <td>78</td>\n",
       "      <td>90</td>\n",
       "      <td>86</td>\n",
       "      <td>87</td>\n",
       "    </tr>\n",
       "    <tr>\n",
       "      <th>學生2</th>\n",
       "      <td>77</td>\n",
       "      <td>94</td>\n",
       "      <td>59</td>\n",
       "      <td>96</td>\n",
       "      <td>78</td>\n",
       "    </tr>\n",
       "    <tr>\n",
       "      <th>學生3</th>\n",
       "      <td>90</td>\n",
       "      <td>63</td>\n",
       "      <td>95</td>\n",
       "      <td>87</td>\n",
       "      <td>98</td>\n",
       "    </tr>\n",
       "    <tr>\n",
       "      <th>學生4</th>\n",
       "      <td>80</td>\n",
       "      <td>88</td>\n",
       "      <td>66</td>\n",
       "      <td>92</td>\n",
       "      <td>77</td>\n",
       "    </tr>\n",
       "    <tr>\n",
       "      <th>學生5</th>\n",
       "      <td>71</td>\n",
       "      <td>78</td>\n",
       "      <td>80</td>\n",
       "      <td>74</td>\n",
       "      <td>86</td>\n",
       "    </tr>\n",
       "  </tbody>\n",
       "</table>\n",
       "</div>"
      ],
      "text/plain": [
       "     國文  英文  數學  地理  歷史\n",
       "學生1  56  78  90  86  87\n",
       "學生2  77  94  59  96  78\n",
       "學生3  90  63  95  87  98\n",
       "學生4  80  88  66  92  77\n",
       "學生5  71  78  80  74  86"
      ]
     },
     "execution_count": 25,
     "metadata": {},
     "output_type": "execute_result"
    }
   ],
   "source": [
    "data=np.random.randint(50,101,size=(5,5))\n",
    "df=pd.DataFrame(data,index=[\"學生1\",\"學生2\",\"學生3\",\"學生4\",\"學生5\"],\n",
    "            columns=[\"國文\",\"英文\",\"數學\",\"地理\",\"歷史\"])\n",
    "df"
   ]
  },
  {
   "cell_type": "code",
   "execution_count": 26,
   "id": "1ce1603b",
   "metadata": {},
   "outputs": [
    {
     "data": {
      "text/html": [
       "<div>\n",
       "<style scoped>\n",
       "    .dataframe tbody tr th:only-of-type {\n",
       "        vertical-align: middle;\n",
       "    }\n",
       "\n",
       "    .dataframe tbody tr th {\n",
       "        vertical-align: top;\n",
       "    }\n",
       "\n",
       "    .dataframe thead th {\n",
       "        text-align: right;\n",
       "    }\n",
       "</style>\n",
       "<table border=\"1\" class=\"dataframe\">\n",
       "  <thead>\n",
       "    <tr style=\"text-align: right;\">\n",
       "      <th></th>\n",
       "      <th>國文</th>\n",
       "      <th>英文</th>\n",
       "      <th>數學</th>\n",
       "      <th>地理</th>\n",
       "      <th>歷史</th>\n",
       "    </tr>\n",
       "  </thead>\n",
       "  <tbody>\n",
       "    <tr>\n",
       "      <th>學生1</th>\n",
       "      <td>56</td>\n",
       "      <td>78</td>\n",
       "      <td>90</td>\n",
       "      <td>86</td>\n",
       "      <td>87</td>\n",
       "    </tr>\n",
       "    <tr>\n",
       "      <th>學生2</th>\n",
       "      <td>77</td>\n",
       "      <td>94</td>\n",
       "      <td>59</td>\n",
       "      <td>96</td>\n",
       "      <td>78</td>\n",
       "    </tr>\n",
       "    <tr>\n",
       "      <th>學生3</th>\n",
       "      <td>90</td>\n",
       "      <td>63</td>\n",
       "      <td>95</td>\n",
       "      <td>87</td>\n",
       "      <td>98</td>\n",
       "    </tr>\n",
       "    <tr>\n",
       "      <th>學生4</th>\n",
       "      <td>80</td>\n",
       "      <td>88</td>\n",
       "      <td>66</td>\n",
       "      <td>92</td>\n",
       "      <td>77</td>\n",
       "    </tr>\n",
       "    <tr>\n",
       "      <th>學生5</th>\n",
       "      <td>71</td>\n",
       "      <td>78</td>\n",
       "      <td>80</td>\n",
       "      <td>74</td>\n",
       "      <td>86</td>\n",
       "    </tr>\n",
       "  </tbody>\n",
       "</table>\n",
       "</div>"
      ],
      "text/plain": [
       "     國文  英文  數學  地理  歷史\n",
       "學生1  56  78  90  86  87\n",
       "學生2  77  94  59  96  78\n",
       "學生3  90  63  95  87  98\n",
       "學生4  80  88  66  92  77\n",
       "學生5  71  78  80  74  86"
      ]
     },
     "execution_count": 26,
     "metadata": {},
     "output_type": "execute_result"
    }
   ],
   "source": [
    "df[df[\"歷史\"]>=70]"
   ]
  },
  {
   "cell_type": "code",
   "execution_count": 27,
   "id": "cc65d322",
   "metadata": {},
   "outputs": [
    {
     "data": {
      "text/plain": [
       "學生1     True\n",
       "學生2    False\n",
       "學生3     True\n",
       "學生4     True\n",
       "學生5     True\n",
       "dtype: bool"
      ]
     },
     "execution_count": 27,
     "metadata": {},
     "output_type": "execute_result"
    }
   ],
   "source": [
    "#歷史>=60且數學>=60\n",
    "(df[\"歷史\"]>=60)&(df[\"數學\"]>=60)"
   ]
  }
 ],
 "metadata": {
  "kernelspec": {
   "display_name": "python2_4",
   "language": "python",
   "name": "python3"
  },
  "language_info": {
   "codemirror_mode": {
    "name": "ipython",
    "version": 3
   },
   "file_extension": ".py",
   "mimetype": "text/x-python",
   "name": "python",
   "nbconvert_exporter": "python",
   "pygments_lexer": "ipython3",
   "version": "3.10.18"
  }
 },
 "nbformat": 4,
 "nbformat_minor": 5
}
